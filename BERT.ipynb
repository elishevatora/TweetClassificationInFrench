{
 "cells": [
  {
   "cell_type": "code",
   "execution_count": 1,
   "id": "b5285ca3",
   "metadata": {},
   "outputs": [],
   "source": [
    "import pandas as pd\n",
    "import numpy as np\n",
    "\n",
    "from sklearn.feature_extraction.text import TfidfVectorizer\n",
    "\n",
    "import re\n",
    "\n",
    "from sklearn.model_selection import train_test_split\n",
    "\n",
    "from sklearn.ensemble import RandomForestClassifier\n",
    "from sklearn.metrics import classification_report, confusion_matrix, accuracy_score\n",
    "from sklearn.metrics import roc_auc_score\n",
    "import warnings; warnings.simplefilter('ignore')\n",
    "\n",
    "from sklearn.linear_model import LogisticRegression\n",
    "\n",
    "from sklearn.ensemble import GradientBoostingClassifier"
   ]
  },
  {
   "cell_type": "code",
   "execution_count": 2,
   "id": "81f77d53",
   "metadata": {},
   "outputs": [],
   "source": [
    "#pip install sklearn\n",
    "# pip install torch torchvision\n",
    "# pip install transformers==4.15.0\n",
    "# pip install sentence-transformers\n",
    "# pip install ipywidgets"
   ]
  },
  {
   "cell_type": "code",
   "execution_count": 3,
   "id": "dadd0f68",
   "metadata": {},
   "outputs": [],
   "source": [
    "# Read the data\n",
    "classified_data = pd.read_csv(\"final_data.csv\",  sep=';')\n",
    "# Clean data\n",
    "classified_data.replace([np.inf, -np.inf], np.nan, inplace=True)\n",
    "classified_data = classified_data.dropna()\n",
    "classified_data.avis1 = classified_data.avis1.astype(int)"
   ]
  },
  {
   "cell_type": "code",
   "execution_count": 4,
   "id": "4b1af2fd",
   "metadata": {},
   "outputs": [
    {
     "data": {
      "text/html": [
       "<div>\n",
       "<style scoped>\n",
       "    .dataframe tbody tr th:only-of-type {\n",
       "        vertical-align: middle;\n",
       "    }\n",
       "\n",
       "    .dataframe tbody tr th {\n",
       "        vertical-align: top;\n",
       "    }\n",
       "\n",
       "    .dataframe thead th {\n",
       "        text-align: right;\n",
       "    }\n",
       "</style>\n",
       "<table border=\"1\" class=\"dataframe\">\n",
       "  <thead>\n",
       "    <tr style=\"text-align: right;\">\n",
       "      <th></th>\n",
       "      <th>avis1</th>\n",
       "      <th>text</th>\n",
       "      <th>id</th>\n",
       "    </tr>\n",
       "  </thead>\n",
       "  <tbody>\n",
       "    <tr>\n",
       "      <th>0</th>\n",
       "      <td>1</td>\n",
       "      <td>Elle ne devait pas dégager la nazi ??? https:/...</td>\n",
       "      <td>1.466478e+18</td>\n",
       "    </tr>\n",
       "    <tr>\n",
       "      <th>1</th>\n",
       "      <td>0</td>\n",
       "      <td>je dois faire un oral en anglais sur Hitler et...</td>\n",
       "      <td>1.466478e+18</td>\n",
       "    </tr>\n",
       "    <tr>\n",
       "      <th>2</th>\n",
       "      <td>0</td>\n",
       "      <td>@ambrassmoi_ A ça 🤏 de ressembler à la croix n...</td>\n",
       "      <td>1.466478e+18</td>\n",
       "    </tr>\n",
       "    <tr>\n",
       "      <th>3</th>\n",
       "      <td>0</td>\n",
       "      <td>Par curiosité, j’ai voulu écouter les discours...</td>\n",
       "      <td>1.466478e+18</td>\n",
       "    </tr>\n",
       "    <tr>\n",
       "      <th>4</th>\n",
       "      <td>1</td>\n",
       "      <td>@tical10 @ExBarcaFan74523 @ConflitsFrance Mdr ...</td>\n",
       "      <td>1.466478e+18</td>\n",
       "    </tr>\n",
       "    <tr>\n",
       "      <th>...</th>\n",
       "      <td>...</td>\n",
       "      <td>...</td>\n",
       "      <td>...</td>\n",
       "    </tr>\n",
       "    <tr>\n",
       "      <th>2851</th>\n",
       "      <td>1</td>\n",
       "      <td>Kevin c’est un sal noir.</td>\n",
       "      <td>1.464411e+18</td>\n",
       "    </tr>\n",
       "    <tr>\n",
       "      <th>2852</th>\n",
       "      <td>1</td>\n",
       "      <td>bougnoule bamboula sale arabe , elle est belle...</td>\n",
       "      <td>1.464364e+18</td>\n",
       "    </tr>\n",
       "    <tr>\n",
       "      <th>2853</th>\n",
       "      <td>1</td>\n",
       "      <td>@B_mahrezz Tu viens de le traiter de sal noir ?</td>\n",
       "      <td>1.464234e+18</td>\n",
       "    </tr>\n",
       "    <tr>\n",
       "      <th>2854</th>\n",
       "      <td>1</td>\n",
       "      <td>SAL NOIR https://t.co/JraABFtel8</td>\n",
       "      <td>1.463961e+18</td>\n",
       "    </tr>\n",
       "    <tr>\n",
       "      <th>2855</th>\n",
       "      <td>1</td>\n",
       "      <td>Sal Noir https://t.co/9Sr7f4Mzr5 https://t.co/...</td>\n",
       "      <td>1.463959e+18</td>\n",
       "    </tr>\n",
       "  </tbody>\n",
       "</table>\n",
       "<p>2856 rows × 3 columns</p>\n",
       "</div>"
      ],
      "text/plain": [
       "      avis1                                               text            id\n",
       "0         1  Elle ne devait pas dégager la nazi ??? https:/...  1.466478e+18\n",
       "1         0  je dois faire un oral en anglais sur Hitler et...  1.466478e+18\n",
       "2         0  @ambrassmoi_ A ça 🤏 de ressembler à la croix n...  1.466478e+18\n",
       "3         0  Par curiosité, j’ai voulu écouter les discours...  1.466478e+18\n",
       "4         1  @tical10 @ExBarcaFan74523 @ConflitsFrance Mdr ...  1.466478e+18\n",
       "...     ...                                                ...           ...\n",
       "2851      1                           Kevin c’est un sal noir.  1.464411e+18\n",
       "2852      1  bougnoule bamboula sale arabe , elle est belle...  1.464364e+18\n",
       "2853      1    @B_mahrezz Tu viens de le traiter de sal noir ?  1.464234e+18\n",
       "2854      1                   SAL NOIR https://t.co/JraABFtel8  1.463961e+18\n",
       "2855      1  Sal Noir https://t.co/9Sr7f4Mzr5 https://t.co/...  1.463959e+18\n",
       "\n",
       "[2856 rows x 3 columns]"
      ]
     },
     "execution_count": 4,
     "metadata": {},
     "output_type": "execute_result"
    }
   ],
   "source": [
    "classified_data"
   ]
  },
  {
   "cell_type": "code",
   "execution_count": 5,
   "id": "b42b8a1f",
   "metadata": {},
   "outputs": [
    {
     "data": {
      "text/plain": [
       "0    1851\n",
       "1    1005\n",
       "Name: avis1, dtype: int64"
      ]
     },
     "execution_count": 5,
     "metadata": {},
     "output_type": "execute_result"
    }
   ],
   "source": [
    "classified_data['avis1'].value_counts()"
   ]
  },
  {
   "cell_type": "markdown",
   "id": "ceec10c5",
   "metadata": {},
   "source": [
    "**CLEAN DATA**"
   ]
  },
  {
   "cell_type": "code",
   "execution_count": 6,
   "id": "1199b3d4",
   "metadata": {},
   "outputs": [],
   "source": [
    "# all the tweets\n",
    "text = list(classified_data['text'])"
   ]
  },
  {
   "cell_type": "code",
   "execution_count": 7,
   "id": "b7ada3e8",
   "metadata": {},
   "outputs": [],
   "source": [
    "import nltk\n",
    "from  nltk.stem.snowball import FrenchStemmer\n",
    "\n",
    "def generate_stopwords():\n",
    "    stopwords_fr = nltk.corpus.stopwords.words(\"french\")\n",
    "    stop_words = stopwords_fr\n",
    "    other_exclusions = [\"les\"]\n",
    "    stop_words.extend(other_exclusions)\n",
    "    return stop_words"
   ]
  },
  {
   "cell_type": "code",
   "execution_count": 8,
   "id": "dfae5bb1",
   "metadata": {},
   "outputs": [],
   "source": [
    "stopwords = generate_stopwords()"
   ]
  },
  {
   "cell_type": "code",
   "execution_count": 9,
   "id": "3b1a28d7",
   "metadata": {},
   "outputs": [],
   "source": [
    "emoji_pattern = re.compile(\"[\"\n",
    "        u\"\\U0001F600-\\U0001F64F\"  # emoticons\n",
    "        u\"\\U0001F300-\\U0001F5FF\"  # symbols & pictographs\n",
    "        u\"\\U0001F680-\\U0001F6FF\"  # transport & map symbols\n",
    "        u\"\\U0001F1E0-\\U0001F1FF\"  # flags (iOS)\n",
    "        u\"\\U00002500-\\U00002BEF\"  # chinese char\n",
    "        u\"\\U00002702-\\U000027B0\"\n",
    "        u\"\\U00002702-\\U000027B0\"\n",
    "        u\"\\U000024C2-\\U0001F251\"\n",
    "        u\"\\U0001f926-\\U0001f937\"\n",
    "        u\"\\U00010000-\\U0010ffff\"\n",
    "        u\"\\u2640-\\u2642\" \n",
    "        u\"\\u2600-\\u2B55\"\n",
    "        u\"\\u200d\"\n",
    "        u\"\\u23cf\"\n",
    "        u\"\\u23e9\"\n",
    "        u\"\\u231a\"\n",
    "        u\"\\ufe0f\"  # dingbats\n",
    "        u\"\\u3030\"\n",
    "                      \"]+\", re.UNICODE)"
   ]
  },
  {
   "cell_type": "code",
   "execution_count": 10,
   "id": "06616eac",
   "metadata": {},
   "outputs": [],
   "source": [
    "def cleaner(tweet):\n",
    "    tweet = re.sub(\"@[A-Za-z0-9]+\",\" \",tweet) #Remove @ sign\n",
    "    tweet = re.sub(r\"(?:\\@|http?\\://|https?\\://|www)\\S+\", \" \", tweet) #Remove http links\n",
    "    tweet = \" \".join(tweet.split())\n",
    "    tweet = tweet.replace(\"#\", \" \").replace(\"_\", \" \") #Remove hashtag sign but keep the text\n",
    "    tweet = re.sub(r'[^\\w\\s]',' ',tweet)\n",
    "    final_tweet = emoji_pattern.sub(r'', tweet) #Remove all emojis\n",
    "    return final_tweet"
   ]
  },
  {
   "cell_type": "code",
   "execution_count": 11,
   "id": "8fb8d3d6",
   "metadata": {},
   "outputs": [],
   "source": [
    "# Apply function cleaner to list of string (text)\n",
    "map_object = map(cleaner, text)\n",
    "cleaned_text = list(map_object)\n",
    "final_text = list(map(lambda x: x.lower(), cleaned_text))"
   ]
  },
  {
   "cell_type": "code",
   "execution_count": 12,
   "id": "4b79f2de",
   "metadata": {},
   "outputs": [
    {
     "data": {
      "text/html": [
       "<div>\n",
       "<style scoped>\n",
       "    .dataframe tbody tr th:only-of-type {\n",
       "        vertical-align: middle;\n",
       "    }\n",
       "\n",
       "    .dataframe tbody tr th {\n",
       "        vertical-align: top;\n",
       "    }\n",
       "\n",
       "    .dataframe thead th {\n",
       "        text-align: right;\n",
       "    }\n",
       "</style>\n",
       "<table border=\"1\" class=\"dataframe\">\n",
       "  <thead>\n",
       "    <tr style=\"text-align: right;\">\n",
       "      <th></th>\n",
       "      <th>Cleaned Tweets</th>\n",
       "      <th>Classement</th>\n",
       "    </tr>\n",
       "  </thead>\n",
       "  <tbody>\n",
       "    <tr>\n",
       "      <th>0</th>\n",
       "      <td>elle ne devait pas dégager la nazi</td>\n",
       "      <td>1</td>\n",
       "    </tr>\n",
       "    <tr>\n",
       "      <th>1</th>\n",
       "      <td>je dois faire un oral en anglais sur hitler et...</td>\n",
       "      <td>0</td>\n",
       "    </tr>\n",
       "    <tr>\n",
       "      <th>2</th>\n",
       "      <td>a ça   de ressembler à la croix nazi mdrr</td>\n",
       "      <td>0</td>\n",
       "    </tr>\n",
       "    <tr>\n",
       "      <th>3</th>\n",
       "      <td>par curiosité  j ai voulu écouter les discours...</td>\n",
       "      <td>0</td>\n",
       "    </tr>\n",
       "    <tr>\n",
       "      <th>4</th>\n",
       "      <td>mdr deux nazi n importe quoi</td>\n",
       "      <td>1</td>\n",
       "    </tr>\n",
       "    <tr>\n",
       "      <th>...</th>\n",
       "      <td>...</td>\n",
       "      <td>...</td>\n",
       "    </tr>\n",
       "    <tr>\n",
       "      <th>2851</th>\n",
       "      <td>kevin c est un sal noir</td>\n",
       "      <td>1</td>\n",
       "    </tr>\n",
       "    <tr>\n",
       "      <th>2852</th>\n",
       "      <td>bougnoule bamboula sale arabe   elle est belle...</td>\n",
       "      <td>1</td>\n",
       "    </tr>\n",
       "    <tr>\n",
       "      <th>2853</th>\n",
       "      <td>mahrezz tu viens de le traiter de sal noir</td>\n",
       "      <td>1</td>\n",
       "    </tr>\n",
       "    <tr>\n",
       "      <th>2854</th>\n",
       "      <td>sal noir</td>\n",
       "      <td>1</td>\n",
       "    </tr>\n",
       "    <tr>\n",
       "      <th>2855</th>\n",
       "      <td>sal noir</td>\n",
       "      <td>1</td>\n",
       "    </tr>\n",
       "  </tbody>\n",
       "</table>\n",
       "<p>2856 rows × 2 columns</p>\n",
       "</div>"
      ],
      "text/plain": [
       "                                         Cleaned Tweets  Classement\n",
       "0                elle ne devait pas dégager la nazi               1\n",
       "1     je dois faire un oral en anglais sur hitler et...           0\n",
       "2             a ça   de ressembler à la croix nazi mdrr           0\n",
       "3     par curiosité  j ai voulu écouter les discours...           0\n",
       "4                    mdr deux nazi n importe quoi                 1\n",
       "...                                                 ...         ...\n",
       "2851                           kevin c est un sal noir            1\n",
       "2852  bougnoule bamboula sale arabe   elle est belle...           1\n",
       "2853       mahrezz tu viens de le traiter de sal noir             1\n",
       "2854                                           sal noir           1\n",
       "2855                                           sal noir           1\n",
       "\n",
       "[2856 rows x 2 columns]"
      ]
     },
     "execution_count": 12,
     "metadata": {},
     "output_type": "execute_result"
    }
   ],
   "source": [
    "final_df = pd.DataFrame(final_text, columns=[\"Cleaned Tweets\"])\n",
    "classements = classified_data['avis1']\n",
    "final_df['Classement'] = classements\n",
    "final_df"
   ]
  },
  {
   "cell_type": "markdown",
   "id": "0732d30a",
   "metadata": {},
   "source": [
    "**EMBEDDING WITH BERT**"
   ]
  },
  {
   "cell_type": "markdown",
   "id": "7c205033",
   "metadata": {
    "scrolled": true
   },
   "source": [
    "Import"
   ]
  },
  {
   "cell_type": "code",
   "execution_count": 14,
   "id": "56ac13d5",
   "metadata": {},
   "outputs": [],
   "source": [
    "from sentence_transformers import SentenceTransformer\n",
    "model = SentenceTransformer('distiluse-base-multilingual-cased-v1')"
   ]
  },
  {
   "cell_type": "code",
   "execution_count": 15,
   "id": "8fdc0087",
   "metadata": {},
   "outputs": [],
   "source": [
    "sentence_embeddings = model.encode(final_text)"
   ]
  },
  {
   "cell_type": "code",
   "execution_count": 16,
   "id": "4e64d843",
   "metadata": {},
   "outputs": [
    {
     "data": {
      "text/plain": [
       "(2856, 512)"
      ]
     },
     "execution_count": 16,
     "metadata": {},
     "output_type": "execute_result"
    }
   ],
   "source": [
    "sentence_embeddings.shape"
   ]
  },
  {
   "cell_type": "code",
   "execution_count": 18,
   "id": "ba74564c",
   "metadata": {},
   "outputs": [
    {
     "data": {
      "text/html": [
       "<div>\n",
       "<style scoped>\n",
       "    .dataframe tbody tr th:only-of-type {\n",
       "        vertical-align: middle;\n",
       "    }\n",
       "\n",
       "    .dataframe tbody tr th {\n",
       "        vertical-align: top;\n",
       "    }\n",
       "\n",
       "    .dataframe thead th {\n",
       "        text-align: right;\n",
       "    }\n",
       "</style>\n",
       "<table border=\"1\" class=\"dataframe\">\n",
       "  <thead>\n",
       "    <tr style=\"text-align: right;\">\n",
       "      <th></th>\n",
       "      <th>0</th>\n",
       "      <th>1</th>\n",
       "      <th>2</th>\n",
       "      <th>3</th>\n",
       "      <th>4</th>\n",
       "      <th>5</th>\n",
       "      <th>6</th>\n",
       "      <th>7</th>\n",
       "      <th>8</th>\n",
       "      <th>9</th>\n",
       "      <th>...</th>\n",
       "      <th>502</th>\n",
       "      <th>503</th>\n",
       "      <th>504</th>\n",
       "      <th>505</th>\n",
       "      <th>506</th>\n",
       "      <th>507</th>\n",
       "      <th>508</th>\n",
       "      <th>509</th>\n",
       "      <th>510</th>\n",
       "      <th>511</th>\n",
       "    </tr>\n",
       "  </thead>\n",
       "  <tbody>\n",
       "    <tr>\n",
       "      <th>0</th>\n",
       "      <td>-0.042616</td>\n",
       "      <td>0.012943</td>\n",
       "      <td>0.020557</td>\n",
       "      <td>-0.028893</td>\n",
       "      <td>0.034665</td>\n",
       "      <td>-0.101931</td>\n",
       "      <td>-0.040627</td>\n",
       "      <td>0.054653</td>\n",
       "      <td>-0.069599</td>\n",
       "      <td>0.078870</td>\n",
       "      <td>...</td>\n",
       "      <td>-0.044723</td>\n",
       "      <td>0.008037</td>\n",
       "      <td>0.068910</td>\n",
       "      <td>0.012170</td>\n",
       "      <td>-0.037566</td>\n",
       "      <td>0.056931</td>\n",
       "      <td>0.003984</td>\n",
       "      <td>0.031599</td>\n",
       "      <td>0.081129</td>\n",
       "      <td>0.003851</td>\n",
       "    </tr>\n",
       "    <tr>\n",
       "      <th>1</th>\n",
       "      <td>-0.030887</td>\n",
       "      <td>-0.001331</td>\n",
       "      <td>0.039454</td>\n",
       "      <td>0.020994</td>\n",
       "      <td>0.005853</td>\n",
       "      <td>-0.087681</td>\n",
       "      <td>-0.023335</td>\n",
       "      <td>0.049148</td>\n",
       "      <td>-0.070212</td>\n",
       "      <td>0.030748</td>\n",
       "      <td>...</td>\n",
       "      <td>0.143527</td>\n",
       "      <td>-0.041376</td>\n",
       "      <td>0.040808</td>\n",
       "      <td>-0.008012</td>\n",
       "      <td>-0.016435</td>\n",
       "      <td>0.039760</td>\n",
       "      <td>0.003118</td>\n",
       "      <td>-0.034070</td>\n",
       "      <td>0.049462</td>\n",
       "      <td>-0.033703</td>\n",
       "    </tr>\n",
       "    <tr>\n",
       "      <th>2</th>\n",
       "      <td>-0.060275</td>\n",
       "      <td>-0.073298</td>\n",
       "      <td>0.075299</td>\n",
       "      <td>-0.011707</td>\n",
       "      <td>0.010154</td>\n",
       "      <td>-0.028689</td>\n",
       "      <td>-0.043771</td>\n",
       "      <td>-0.021325</td>\n",
       "      <td>-0.014981</td>\n",
       "      <td>0.044133</td>\n",
       "      <td>...</td>\n",
       "      <td>0.005981</td>\n",
       "      <td>0.074229</td>\n",
       "      <td>0.110397</td>\n",
       "      <td>-0.027463</td>\n",
       "      <td>-0.031761</td>\n",
       "      <td>0.013268</td>\n",
       "      <td>0.007706</td>\n",
       "      <td>0.005575</td>\n",
       "      <td>-0.013301</td>\n",
       "      <td>0.024982</td>\n",
       "    </tr>\n",
       "    <tr>\n",
       "      <th>3</th>\n",
       "      <td>-0.027122</td>\n",
       "      <td>0.018830</td>\n",
       "      <td>-0.010214</td>\n",
       "      <td>-0.044039</td>\n",
       "      <td>0.071857</td>\n",
       "      <td>-0.055521</td>\n",
       "      <td>0.079057</td>\n",
       "      <td>-0.003731</td>\n",
       "      <td>-0.072494</td>\n",
       "      <td>-0.013171</td>\n",
       "      <td>...</td>\n",
       "      <td>0.049584</td>\n",
       "      <td>0.036237</td>\n",
       "      <td>0.012429</td>\n",
       "      <td>0.012895</td>\n",
       "      <td>-0.024021</td>\n",
       "      <td>-0.030838</td>\n",
       "      <td>-0.033537</td>\n",
       "      <td>-0.014998</td>\n",
       "      <td>0.046951</td>\n",
       "      <td>-0.065068</td>\n",
       "    </tr>\n",
       "    <tr>\n",
       "      <th>4</th>\n",
       "      <td>-0.003035</td>\n",
       "      <td>-0.039303</td>\n",
       "      <td>0.013812</td>\n",
       "      <td>-0.057624</td>\n",
       "      <td>0.018102</td>\n",
       "      <td>-0.092746</td>\n",
       "      <td>-0.035957</td>\n",
       "      <td>-0.038816</td>\n",
       "      <td>-0.048145</td>\n",
       "      <td>-0.065571</td>\n",
       "      <td>...</td>\n",
       "      <td>0.038624</td>\n",
       "      <td>0.083552</td>\n",
       "      <td>0.099662</td>\n",
       "      <td>-0.007730</td>\n",
       "      <td>-0.023716</td>\n",
       "      <td>0.015990</td>\n",
       "      <td>-0.000095</td>\n",
       "      <td>-0.008739</td>\n",
       "      <td>0.060285</td>\n",
       "      <td>-0.027889</td>\n",
       "    </tr>\n",
       "    <tr>\n",
       "      <th>...</th>\n",
       "      <td>...</td>\n",
       "      <td>...</td>\n",
       "      <td>...</td>\n",
       "      <td>...</td>\n",
       "      <td>...</td>\n",
       "      <td>...</td>\n",
       "      <td>...</td>\n",
       "      <td>...</td>\n",
       "      <td>...</td>\n",
       "      <td>...</td>\n",
       "      <td>...</td>\n",
       "      <td>...</td>\n",
       "      <td>...</td>\n",
       "      <td>...</td>\n",
       "      <td>...</td>\n",
       "      <td>...</td>\n",
       "      <td>...</td>\n",
       "      <td>...</td>\n",
       "      <td>...</td>\n",
       "      <td>...</td>\n",
       "      <td>...</td>\n",
       "    </tr>\n",
       "    <tr>\n",
       "      <th>2851</th>\n",
       "      <td>0.022852</td>\n",
       "      <td>0.027432</td>\n",
       "      <td>0.038667</td>\n",
       "      <td>-0.013879</td>\n",
       "      <td>0.005034</td>\n",
       "      <td>0.005344</td>\n",
       "      <td>-0.040401</td>\n",
       "      <td>-0.014044</td>\n",
       "      <td>0.054095</td>\n",
       "      <td>0.036961</td>\n",
       "      <td>...</td>\n",
       "      <td>-0.000091</td>\n",
       "      <td>-0.046505</td>\n",
       "      <td>0.054838</td>\n",
       "      <td>-0.033437</td>\n",
       "      <td>-0.048649</td>\n",
       "      <td>0.058183</td>\n",
       "      <td>0.006658</td>\n",
       "      <td>-0.027120</td>\n",
       "      <td>-0.006456</td>\n",
       "      <td>0.025710</td>\n",
       "    </tr>\n",
       "    <tr>\n",
       "      <th>2852</th>\n",
       "      <td>-0.007075</td>\n",
       "      <td>0.038605</td>\n",
       "      <td>0.037965</td>\n",
       "      <td>-0.015389</td>\n",
       "      <td>0.045865</td>\n",
       "      <td>-0.059956</td>\n",
       "      <td>-0.014563</td>\n",
       "      <td>0.001013</td>\n",
       "      <td>0.053555</td>\n",
       "      <td>0.057164</td>\n",
       "      <td>...</td>\n",
       "      <td>0.011677</td>\n",
       "      <td>0.001502</td>\n",
       "      <td>-0.004908</td>\n",
       "      <td>-0.019449</td>\n",
       "      <td>0.020760</td>\n",
       "      <td>0.042417</td>\n",
       "      <td>0.062798</td>\n",
       "      <td>-0.026114</td>\n",
       "      <td>0.052585</td>\n",
       "      <td>-0.010385</td>\n",
       "    </tr>\n",
       "    <tr>\n",
       "      <th>2853</th>\n",
       "      <td>0.021322</td>\n",
       "      <td>0.012744</td>\n",
       "      <td>0.005795</td>\n",
       "      <td>0.022634</td>\n",
       "      <td>0.009331</td>\n",
       "      <td>-0.080154</td>\n",
       "      <td>-0.005330</td>\n",
       "      <td>0.008400</td>\n",
       "      <td>0.055304</td>\n",
       "      <td>0.026841</td>\n",
       "      <td>...</td>\n",
       "      <td>0.047865</td>\n",
       "      <td>0.017698</td>\n",
       "      <td>0.030809</td>\n",
       "      <td>-0.036504</td>\n",
       "      <td>-0.020777</td>\n",
       "      <td>0.048206</td>\n",
       "      <td>-0.029109</td>\n",
       "      <td>-0.007326</td>\n",
       "      <td>0.066231</td>\n",
       "      <td>-0.001880</td>\n",
       "    </tr>\n",
       "    <tr>\n",
       "      <th>2854</th>\n",
       "      <td>0.027365</td>\n",
       "      <td>0.046461</td>\n",
       "      <td>-0.008071</td>\n",
       "      <td>-0.013620</td>\n",
       "      <td>-0.023218</td>\n",
       "      <td>-0.039475</td>\n",
       "      <td>0.011383</td>\n",
       "      <td>-0.010844</td>\n",
       "      <td>0.018849</td>\n",
       "      <td>-0.013087</td>\n",
       "      <td>...</td>\n",
       "      <td>0.055492</td>\n",
       "      <td>-0.009762</td>\n",
       "      <td>0.005501</td>\n",
       "      <td>-0.014515</td>\n",
       "      <td>-0.043474</td>\n",
       "      <td>0.002562</td>\n",
       "      <td>-0.031522</td>\n",
       "      <td>-0.023956</td>\n",
       "      <td>0.090468</td>\n",
       "      <td>-0.007074</td>\n",
       "    </tr>\n",
       "    <tr>\n",
       "      <th>2855</th>\n",
       "      <td>0.027365</td>\n",
       "      <td>0.046461</td>\n",
       "      <td>-0.008071</td>\n",
       "      <td>-0.013620</td>\n",
       "      <td>-0.023218</td>\n",
       "      <td>-0.039475</td>\n",
       "      <td>0.011383</td>\n",
       "      <td>-0.010844</td>\n",
       "      <td>0.018849</td>\n",
       "      <td>-0.013087</td>\n",
       "      <td>...</td>\n",
       "      <td>0.055492</td>\n",
       "      <td>-0.009762</td>\n",
       "      <td>0.005501</td>\n",
       "      <td>-0.014515</td>\n",
       "      <td>-0.043474</td>\n",
       "      <td>0.002562</td>\n",
       "      <td>-0.031522</td>\n",
       "      <td>-0.023956</td>\n",
       "      <td>0.090468</td>\n",
       "      <td>-0.007074</td>\n",
       "    </tr>\n",
       "  </tbody>\n",
       "</table>\n",
       "<p>2856 rows × 512 columns</p>\n",
       "</div>"
      ],
      "text/plain": [
       "           0         1         2         3         4         5         6    \\\n",
       "0    -0.042616  0.012943  0.020557 -0.028893  0.034665 -0.101931 -0.040627   \n",
       "1    -0.030887 -0.001331  0.039454  0.020994  0.005853 -0.087681 -0.023335   \n",
       "2    -0.060275 -0.073298  0.075299 -0.011707  0.010154 -0.028689 -0.043771   \n",
       "3    -0.027122  0.018830 -0.010214 -0.044039  0.071857 -0.055521  0.079057   \n",
       "4    -0.003035 -0.039303  0.013812 -0.057624  0.018102 -0.092746 -0.035957   \n",
       "...        ...       ...       ...       ...       ...       ...       ...   \n",
       "2851  0.022852  0.027432  0.038667 -0.013879  0.005034  0.005344 -0.040401   \n",
       "2852 -0.007075  0.038605  0.037965 -0.015389  0.045865 -0.059956 -0.014563   \n",
       "2853  0.021322  0.012744  0.005795  0.022634  0.009331 -0.080154 -0.005330   \n",
       "2854  0.027365  0.046461 -0.008071 -0.013620 -0.023218 -0.039475  0.011383   \n",
       "2855  0.027365  0.046461 -0.008071 -0.013620 -0.023218 -0.039475  0.011383   \n",
       "\n",
       "           7         8         9    ...       502       503       504  \\\n",
       "0     0.054653 -0.069599  0.078870  ... -0.044723  0.008037  0.068910   \n",
       "1     0.049148 -0.070212  0.030748  ...  0.143527 -0.041376  0.040808   \n",
       "2    -0.021325 -0.014981  0.044133  ...  0.005981  0.074229  0.110397   \n",
       "3    -0.003731 -0.072494 -0.013171  ...  0.049584  0.036237  0.012429   \n",
       "4    -0.038816 -0.048145 -0.065571  ...  0.038624  0.083552  0.099662   \n",
       "...        ...       ...       ...  ...       ...       ...       ...   \n",
       "2851 -0.014044  0.054095  0.036961  ... -0.000091 -0.046505  0.054838   \n",
       "2852  0.001013  0.053555  0.057164  ...  0.011677  0.001502 -0.004908   \n",
       "2853  0.008400  0.055304  0.026841  ...  0.047865  0.017698  0.030809   \n",
       "2854 -0.010844  0.018849 -0.013087  ...  0.055492 -0.009762  0.005501   \n",
       "2855 -0.010844  0.018849 -0.013087  ...  0.055492 -0.009762  0.005501   \n",
       "\n",
       "           505       506       507       508       509       510       511  \n",
       "0     0.012170 -0.037566  0.056931  0.003984  0.031599  0.081129  0.003851  \n",
       "1    -0.008012 -0.016435  0.039760  0.003118 -0.034070  0.049462 -0.033703  \n",
       "2    -0.027463 -0.031761  0.013268  0.007706  0.005575 -0.013301  0.024982  \n",
       "3     0.012895 -0.024021 -0.030838 -0.033537 -0.014998  0.046951 -0.065068  \n",
       "4    -0.007730 -0.023716  0.015990 -0.000095 -0.008739  0.060285 -0.027889  \n",
       "...        ...       ...       ...       ...       ...       ...       ...  \n",
       "2851 -0.033437 -0.048649  0.058183  0.006658 -0.027120 -0.006456  0.025710  \n",
       "2852 -0.019449  0.020760  0.042417  0.062798 -0.026114  0.052585 -0.010385  \n",
       "2853 -0.036504 -0.020777  0.048206 -0.029109 -0.007326  0.066231 -0.001880  \n",
       "2854 -0.014515 -0.043474  0.002562 -0.031522 -0.023956  0.090468 -0.007074  \n",
       "2855 -0.014515 -0.043474  0.002562 -0.031522 -0.023956  0.090468 -0.007074  \n",
       "\n",
       "[2856 rows x 512 columns]"
      ]
     },
     "execution_count": 18,
     "metadata": {},
     "output_type": "execute_result"
    }
   ],
   "source": [
    "# x_train + x_test\n",
    "bert_df = pd.DataFrame(sentence_embeddings)\n",
    "bert_df"
   ]
  },
  {
   "cell_type": "code",
   "execution_count": 19,
   "id": "62a889bd",
   "metadata": {},
   "outputs": [],
   "source": [
    "# Split Data to train and test parts\n",
    "y = final_df[\"Classement\"]\n",
    "X_train, X_test, y_train, y_test = train_test_split(bert_df, y, test_size=0.2, random_state=42)"
   ]
  },
  {
   "cell_type": "markdown",
   "id": "346e01ad",
   "metadata": {},
   "source": [
    "## Random Forest"
   ]
  },
  {
   "cell_type": "code",
   "execution_count": 20,
   "id": "fda3d011",
   "metadata": {},
   "outputs": [
    {
     "data": {
      "text/plain": [
       "RandomForestClassifier()"
      ]
     },
     "execution_count": 20,
     "metadata": {},
     "output_type": "execute_result"
    }
   ],
   "source": [
    "random_forest_model = RandomForestClassifier()\n",
    "random_forest_model.fit(X_train, y_train)"
   ]
  },
  {
   "cell_type": "code",
   "execution_count": 21,
   "id": "9da803c4",
   "metadata": {},
   "outputs": [
    {
     "name": "stdout",
     "output_type": "stream",
     "text": [
      "Accuracy: 0.7587412587412588\n"
     ]
    }
   ],
   "source": [
    "y_pred = random_forest_model.predict(X_test)\n",
    "print(\"Accuracy:\", accuracy_score(y_test,y_pred))"
   ]
  },
  {
   "cell_type": "code",
   "execution_count": 22,
   "id": "884b9ca1",
   "metadata": {},
   "outputs": [
    {
     "name": "stdout",
     "output_type": "stream",
     "text": [
      "              precision    recall  f1-score   support\n",
      "\n",
      "           0       0.75      0.94      0.84       375\n",
      "           1       0.78      0.42      0.55       197\n",
      "\n",
      "    accuracy                           0.76       572\n",
      "   macro avg       0.77      0.68      0.69       572\n",
      "weighted avg       0.76      0.76      0.74       572\n",
      "\n"
     ]
    }
   ],
   "source": [
    "print(classification_report(y_test, y_pred))"
   ]
  },
  {
   "cell_type": "code",
   "execution_count": 23,
   "id": "36c4f414",
   "metadata": {},
   "outputs": [
    {
     "name": "stdout",
     "output_type": "stream",
     "text": [
      "Confusion Matrix:\n",
      "[351  24 114  83]\n"
     ]
    }
   ],
   "source": [
    "print(\"Confusion Matrix:\")\n",
    "print(confusion_matrix(y_test, y_pred).ravel())\n",
    "# TN FP FN TP"
   ]
  },
  {
   "cell_type": "code",
   "execution_count": 24,
   "id": "634dbdb7",
   "metadata": {},
   "outputs": [
    {
     "data": {
      "text/plain": [
       "<sklearn.metrics._plot.confusion_matrix.ConfusionMatrixDisplay at 0x280278670>"
      ]
     },
     "execution_count": 24,
     "metadata": {},
     "output_type": "execute_result"
    },
    {
     "data": {
      "image/png": "[encoded data removed]",
      "text/plain": [
       "<Figure size 432x288 with 2 Axes>"
      ]
     },
     "metadata": {
      "needs_background": "light"
     },
     "output_type": "display_data"
    }
   ],
   "source": [
    "import matplotlib.pyplot as plt\n",
    "from sklearn.metrics import plot_confusion_matrix\n",
    "plot_confusion_matrix(random_forest_model, X_test, y_test)"
   ]
  },
  {
   "cell_type": "markdown",
   "id": "0c77c865",
   "metadata": {},
   "source": [
    "## Logistic Regression"
   ]
  },
  {
   "cell_type": "code",
   "execution_count": 25,
   "id": "9ec593d7",
   "metadata": {},
   "outputs": [],
   "source": [
    "logistic_regression_model = LogisticRegression().fit(X_train, y_train)"
   ]
  },
  {
   "cell_type": "code",
   "execution_count": 26,
   "id": "e60bf08e",
   "metadata": {},
   "outputs": [
    {
     "data": {
      "text/plain": [
       "0.777972027972028"
      ]
     },
     "execution_count": 26,
     "metadata": {},
     "output_type": "execute_result"
    }
   ],
   "source": [
    "y_pred_LR = logistic_regression_model.predict(X_test)\n",
    "logistic_regression_model.score(X_test, y_test)"
   ]
  },
  {
   "cell_type": "code",
   "execution_count": 27,
   "id": "11907824",
   "metadata": {},
   "outputs": [
    {
     "name": "stdout",
     "output_type": "stream",
     "text": [
      "              precision    recall  f1-score   support\n",
      "\n",
      "           0       0.80      0.89      0.84       375\n",
      "           1       0.73      0.56      0.64       197\n",
      "\n",
      "    accuracy                           0.78       572\n",
      "   macro avg       0.76      0.73      0.74       572\n",
      "weighted avg       0.77      0.78      0.77       572\n",
      "\n"
     ]
    }
   ],
   "source": [
    "print(classification_report(y_test, y_pred_LR))"
   ]
  },
  {
   "cell_type": "code",
   "execution_count": 28,
   "id": "2ee01fd8",
   "metadata": {},
   "outputs": [
    {
     "name": "stdout",
     "output_type": "stream",
     "text": [
      "Confusion Matrix:\n",
      "[334  41  86 111]\n"
     ]
    }
   ],
   "source": [
    "print(\"Confusion Matrix:\")\n",
    "print(confusion_matrix(y_test, y_pred_LR).ravel())"
   ]
  },
  {
   "cell_type": "code",
   "execution_count": 29,
   "id": "011eeb5c",
   "metadata": {},
   "outputs": [
    {
     "data": {
      "text/plain": [
       "<sklearn.metrics._plot.confusion_matrix.ConfusionMatrixDisplay at 0x158cb95e0>"
      ]
     },
     "execution_count": 29,
     "metadata": {},
     "output_type": "execute_result"
    },
    {
     "data": {
      "image/png": "[encoded data removed]",
      "text/plain": [
       "<Figure size 432x288 with 2 Axes>"
      ]
     },
     "metadata": {
      "needs_background": "light"
     },
     "output_type": "display_data"
    }
   ],
   "source": [
    "import matplotlib.pyplot as plt\n",
    "from sklearn.metrics import plot_confusion_matrix\n",
    "plot_confusion_matrix(logistic_regression_model, X_test, y_test)"
   ]
  },
  {
   "cell_type": "markdown",
   "id": "3928bea6",
   "metadata": {},
   "source": [
    "## XGBOOST"
   ]
  },
  {
   "cell_type": "code",
   "execution_count": 30,
   "id": "dc37d3a0",
   "metadata": {},
   "outputs": [],
   "source": [
    "xgboost_model = GradientBoostingClassifier().fit(X_train, y_train)"
   ]
  },
  {
   "cell_type": "code",
   "execution_count": 31,
   "id": "991834ef",
   "metadata": {},
   "outputs": [
    {
     "data": {
      "text/plain": [
       "0.7622377622377622"
      ]
     },
     "execution_count": 31,
     "metadata": {},
     "output_type": "execute_result"
    }
   ],
   "source": [
    "y_pred = xgboost_model.predict(X_test)\n",
    "xgboost_model.score(X_test, y_test)"
   ]
  },
  {
   "cell_type": "code",
   "execution_count": 32,
   "id": "24a11a44",
   "metadata": {},
   "outputs": [
    {
     "name": "stdout",
     "output_type": "stream",
     "text": [
      "              precision    recall  f1-score   support\n",
      "\n",
      "           0       0.78      0.90      0.83       375\n",
      "           1       0.72      0.51      0.60       197\n",
      "\n",
      "    accuracy                           0.76       572\n",
      "   macro avg       0.75      0.70      0.71       572\n",
      "weighted avg       0.76      0.76      0.75       572\n",
      "\n"
     ]
    }
   ],
   "source": [
    "print(classification_report(y_test, y_pred))"
   ]
  },
  {
   "cell_type": "code",
   "execution_count": 33,
   "id": "f255b994",
   "metadata": {},
   "outputs": [
    {
     "name": "stdout",
     "output_type": "stream",
     "text": [
      "Confusion Matrix:\n",
      "[336  39  97 100]\n"
     ]
    }
   ],
   "source": [
    "print(\"Confusion Matrix:\")\n",
    "print(confusion_matrix(y_test, y_pred).ravel())"
   ]
  },
  {
   "cell_type": "code",
   "execution_count": 34,
   "id": "59242cc5",
   "metadata": {},
   "outputs": [
    {
     "data": {
      "text/plain": [
       "<sklearn.metrics._plot.confusion_matrix.ConfusionMatrixDisplay at 0x158b48850>"
      ]
     },
     "execution_count": 34,
     "metadata": {},
     "output_type": "execute_result"
    },
    {
     "data": {
      "image/png": "[encoded data removed]",
      "text/plain": [
       "<Figure size 432x288 with 2 Axes>"
      ]
     },
     "metadata": {
      "needs_background": "light"
     },
     "output_type": "display_data"
    }
   ],
   "source": [
    "import matplotlib.pyplot as plt\n",
    "from sklearn.metrics import plot_confusion_matrix\n",
    "plot_confusion_matrix(xgboost_model, X_test, y_test)"
   ]
  }
 ],
 "metadata": {
  "kernelspec": {
   "display_name": "Python 3 (ipykernel)",
   "language": "python",
   "name": "python3"
  },
  "language_info": {
   "codemirror_mode": {
    "name": "ipython",
    "version": 3
   },
   "file_extension": ".py",
   "mimetype": "text/x-python",
   "name": "python",
   "nbconvert_exporter": "python",
   "pygments_lexer": "ipython3",
   "version": "3.9.9"
  }
 },
 "nbformat": 4,
 "nbformat_minor": 5
}
