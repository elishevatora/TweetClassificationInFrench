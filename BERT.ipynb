{
 "cells": [
  {
   "cell_type": "code",
   "execution_count": 1,
   "id": "b5285ca3",
   "metadata": {},
   "outputs": [],
   "source": [
    "import pandas as pd\n",
    "import numpy as np\n",
    "\n",
    "from sklearn.feature_extraction.text import TfidfVectorizer\n",
    "\n",
    "import re\n",
    "\n",
    "from sklearn.model_selection import train_test_split\n",
    "\n",
    "from sklearn.ensemble import RandomForestClassifier\n",
    "from sklearn.metrics import classification_report, confusion_matrix, accuracy_score\n",
    "from sklearn.metrics import roc_auc_score\n",
    "import warnings; warnings.simplefilter('ignore')\n",
    "\n",
    "from sklearn.linear_model import LogisticRegression\n",
    "\n",
    "from sklearn.ensemble import GradientBoostingClassifier"
   ]
  },
  {
   "cell_type": "code",
   "execution_count": 2,
   "id": "81f77d53",
   "metadata": {},
   "outputs": [],
   "source": [
    "#pip install sklearn"
   ]
  },
  {
   "cell_type": "code",
   "execution_count": 3,
   "id": "dadd0f68",
   "metadata": {},
   "outputs": [],
   "source": [
    "# Read the data\n",
    "classified_data = pd.read_csv(\"final_data.csv\",  sep=';')\n",
    "# Clean data\n",
    "classified_data.replace([np.inf, -np.inf], np.nan, inplace=True)\n",
    "classified_data = classified_data.dropna()\n",
    "classified_data.avis1 = classified_data.avis1.astype(int)"
   ]
  },
  {
   "cell_type": "code",
   "execution_count": 4,
   "id": "4b1af2fd",
   "metadata": {},
   "outputs": [
    {
     "data": {
      "text/html": [
       "<div>\n",
       "<style scoped>\n",
       "    .dataframe tbody tr th:only-of-type {\n",
       "        vertical-align: middle;\n",
       "    }\n",
       "\n",
       "    .dataframe tbody tr th {\n",
       "        vertical-align: top;\n",
       "    }\n",
       "\n",
       "    .dataframe thead th {\n",
       "        text-align: right;\n",
       "    }\n",
       "</style>\n",
       "<table border=\"1\" class=\"dataframe\">\n",
       "  <thead>\n",
       "    <tr style=\"text-align: right;\">\n",
       "      <th></th>\n",
       "      <th>avis1</th>\n",
       "      <th>text</th>\n",
       "      <th>id</th>\n",
       "    </tr>\n",
       "  </thead>\n",
       "  <tbody>\n",
       "    <tr>\n",
       "      <th>0</th>\n",
       "      <td>1</td>\n",
       "      <td>Elle ne devait pas dégager la nazi ??? https:/...</td>\n",
       "      <td>1.466478e+18</td>\n",
       "    </tr>\n",
       "    <tr>\n",
       "      <th>1</th>\n",
       "      <td>0</td>\n",
       "      <td>je dois faire un oral en anglais sur Hitler et...</td>\n",
       "      <td>1.466478e+18</td>\n",
       "    </tr>\n",
       "    <tr>\n",
       "      <th>2</th>\n",
       "      <td>0</td>\n",
       "      <td>@ambrassmoi_ A ça 🤏 de ressembler à la croix n...</td>\n",
       "      <td>1.466478e+18</td>\n",
       "    </tr>\n",
       "    <tr>\n",
       "      <th>3</th>\n",
       "      <td>0</td>\n",
       "      <td>Par curiosité, j’ai voulu écouter les discours...</td>\n",
       "      <td>1.466478e+18</td>\n",
       "    </tr>\n",
       "    <tr>\n",
       "      <th>4</th>\n",
       "      <td>1</td>\n",
       "      <td>@tical10 @ExBarcaFan74523 @ConflitsFrance Mdr ...</td>\n",
       "      <td>1.466478e+18</td>\n",
       "    </tr>\n",
       "    <tr>\n",
       "      <th>...</th>\n",
       "      <td>...</td>\n",
       "      <td>...</td>\n",
       "      <td>...</td>\n",
       "    </tr>\n",
       "    <tr>\n",
       "      <th>2851</th>\n",
       "      <td>1</td>\n",
       "      <td>Kevin c’est un sal noir.</td>\n",
       "      <td>1.464411e+18</td>\n",
       "    </tr>\n",
       "    <tr>\n",
       "      <th>2852</th>\n",
       "      <td>1</td>\n",
       "      <td>bougnoule bamboula sale arabe , elle est belle...</td>\n",
       "      <td>1.464364e+18</td>\n",
       "    </tr>\n",
       "    <tr>\n",
       "      <th>2853</th>\n",
       "      <td>1</td>\n",
       "      <td>@B_mahrezz Tu viens de le traiter de sal noir ?</td>\n",
       "      <td>1.464234e+18</td>\n",
       "    </tr>\n",
       "    <tr>\n",
       "      <th>2854</th>\n",
       "      <td>1</td>\n",
       "      <td>SAL NOIR https://t.co/JraABFtel8</td>\n",
       "      <td>1.463961e+18</td>\n",
       "    </tr>\n",
       "    <tr>\n",
       "      <th>2855</th>\n",
       "      <td>1</td>\n",
       "      <td>Sal Noir https://t.co/9Sr7f4Mzr5 https://t.co/...</td>\n",
       "      <td>1.463959e+18</td>\n",
       "    </tr>\n",
       "  </tbody>\n",
       "</table>\n",
       "<p>2856 rows × 3 columns</p>\n",
       "</div>"
      ],
      "text/plain": [
       "      avis1                                               text            id\n",
       "0         1  Elle ne devait pas dégager la nazi ??? https:/...  1.466478e+18\n",
       "1         0  je dois faire un oral en anglais sur Hitler et...  1.466478e+18\n",
       "2         0  @ambrassmoi_ A ça 🤏 de ressembler à la croix n...  1.466478e+18\n",
       "3         0  Par curiosité, j’ai voulu écouter les discours...  1.466478e+18\n",
       "4         1  @tical10 @ExBarcaFan74523 @ConflitsFrance Mdr ...  1.466478e+18\n",
       "...     ...                                                ...           ...\n",
       "2851      1                           Kevin c’est un sal noir.  1.464411e+18\n",
       "2852      1  bougnoule bamboula sale arabe , elle est belle...  1.464364e+18\n",
       "2853      1    @B_mahrezz Tu viens de le traiter de sal noir ?  1.464234e+18\n",
       "2854      1                   SAL NOIR https://t.co/JraABFtel8  1.463961e+18\n",
       "2855      1  Sal Noir https://t.co/9Sr7f4Mzr5 https://t.co/...  1.463959e+18\n",
       "\n",
       "[2856 rows x 3 columns]"
      ]
     },
     "execution_count": 4,
     "metadata": {},
     "output_type": "execute_result"
    }
   ],
   "source": [
    "classified_data"
   ]
  },
  {
   "cell_type": "code",
   "execution_count": 5,
   "id": "b42b8a1f",
   "metadata": {},
   "outputs": [
    {
     "data": {
      "text/plain": [
       "0    1851\n",
       "1    1005\n",
       "Name: avis1, dtype: int64"
      ]
     },
     "execution_count": 5,
     "metadata": {},
     "output_type": "execute_result"
    }
   ],
   "source": [
    "classified_data['avis1'].value_counts()"
   ]
  },
  {
   "cell_type": "markdown",
   "id": "ceec10c5",
   "metadata": {},
   "source": [
    "**CLEAN DATA**"
   ]
  },
  {
   "cell_type": "code",
   "execution_count": 6,
   "id": "1199b3d4",
   "metadata": {},
   "outputs": [],
   "source": [
    "# all the tweets\n",
    "text = list(classified_data['text'])"
   ]
  },
  {
   "cell_type": "code",
   "execution_count": 7,
   "id": "b7ada3e8",
   "metadata": {},
   "outputs": [],
   "source": [
    "import nltk\n",
    "from  nltk.stem.snowball import FrenchStemmer\n",
    "\n",
    "def generate_stopwords():\n",
    "    stopwords_fr = nltk.corpus.stopwords.words(\"french\")\n",
    "    stop_words = stopwords_fr\n",
    "    other_exclusions = [\"les\"]\n",
    "    stop_words.extend(other_exclusions)\n",
    "    return stop_words"
   ]
  },
  {
   "cell_type": "code",
   "execution_count": 8,
   "id": "dfae5bb1",
   "metadata": {},
   "outputs": [],
   "source": [
    "stopwords = generate_stopwords()"
   ]
  },
  {
   "cell_type": "code",
   "execution_count": 9,
   "id": "3b1a28d7",
   "metadata": {},
   "outputs": [],
   "source": [
    "emoji_pattern = re.compile(\"[\"\n",
    "        u\"\\U0001F600-\\U0001F64F\"  # emoticons\n",
    "        u\"\\U0001F300-\\U0001F5FF\"  # symbols & pictographs\n",
    "        u\"\\U0001F680-\\U0001F6FF\"  # transport & map symbols\n",
    "        u\"\\U0001F1E0-\\U0001F1FF\"  # flags (iOS)\n",
    "        u\"\\U00002500-\\U00002BEF\"  # chinese char\n",
    "        u\"\\U00002702-\\U000027B0\"\n",
    "        u\"\\U00002702-\\U000027B0\"\n",
    "        u\"\\U000024C2-\\U0001F251\"\n",
    "        u\"\\U0001f926-\\U0001f937\"\n",
    "        u\"\\U00010000-\\U0010ffff\"\n",
    "        u\"\\u2640-\\u2642\" \n",
    "        u\"\\u2600-\\u2B55\"\n",
    "        u\"\\u200d\"\n",
    "        u\"\\u23cf\"\n",
    "        u\"\\u23e9\"\n",
    "        u\"\\u231a\"\n",
    "        u\"\\ufe0f\"  # dingbats\n",
    "        u\"\\u3030\"\n",
    "                      \"]+\", re.UNICODE)"
   ]
  },
  {
   "cell_type": "code",
   "execution_count": 10,
   "id": "06616eac",
   "metadata": {},
   "outputs": [],
   "source": [
    "def cleaner(tweet):\n",
    "    tweet = re.sub(\"@[A-Za-z0-9]+\",\" \",tweet) #Remove @ sign\n",
    "    tweet = re.sub(r\"(?:\\@|http?\\://|https?\\://|www)\\S+\", \" \", tweet) #Remove http links\n",
    "    tweet = \" \".join(tweet.split())\n",
    "    tweet = tweet.replace(\"#\", \" \").replace(\"_\", \" \") #Remove hashtag sign but keep the text\n",
    "    tweet = re.sub(r'[^\\w\\s]',' ',tweet)\n",
    "    final_tweet = emoji_pattern.sub(r'', tweet) #Remove all emojis\n",
    "#     remove stopwords\n",
    "    querywords = final_tweet.split()\n",
    "    resultwords  = [word for word in querywords if word.lower() not in stopwords]\n",
    "    result = ' '.join(resultwords)\n",
    "    return result"
   ]
  },
  {
   "cell_type": "code",
   "execution_count": 11,
   "id": "8fb8d3d6",
   "metadata": {},
   "outputs": [],
   "source": [
    "# Apply function cleaner to list of string (text)\n",
    "map_object = map(cleaner, text)\n",
    "cleaned_text = list(map_object)\n",
    "final_text = list(map(lambda x: x.lower(), cleaned_text))"
   ]
  },
  {
   "cell_type": "code",
   "execution_count": 15,
   "id": "4b79f2de",
   "metadata": {},
   "outputs": [
    {
     "data": {
      "text/html": [
       "<div>\n",
       "<style scoped>\n",
       "    .dataframe tbody tr th:only-of-type {\n",
       "        vertical-align: middle;\n",
       "    }\n",
       "\n",
       "    .dataframe tbody tr th {\n",
       "        vertical-align: top;\n",
       "    }\n",
       "\n",
       "    .dataframe thead th {\n",
       "        text-align: right;\n",
       "    }\n",
       "</style>\n",
       "<table border=\"1\" class=\"dataframe\">\n",
       "  <thead>\n",
       "    <tr style=\"text-align: right;\">\n",
       "      <th></th>\n",
       "      <th>Cleaned Tweets</th>\n",
       "      <th>Classement</th>\n",
       "    </tr>\n",
       "  </thead>\n",
       "  <tbody>\n",
       "    <tr>\n",
       "      <th>0</th>\n",
       "      <td>devait dégager nazi</td>\n",
       "      <td>1</td>\n",
       "    </tr>\n",
       "    <tr>\n",
       "      <th>1</th>\n",
       "      <td>dois faire oral anglais hitler propagande sect...</td>\n",
       "      <td>0</td>\n",
       "    </tr>\n",
       "    <tr>\n",
       "      <th>2</th>\n",
       "      <td>a ça ressembler croix nazi mdrr</td>\n",
       "      <td>0</td>\n",
       "    </tr>\n",
       "    <tr>\n",
       "      <th>3</th>\n",
       "      <td>curiosité voulu écouter discours longs hitler ...</td>\n",
       "      <td>0</td>\n",
       "    </tr>\n",
       "    <tr>\n",
       "      <th>4</th>\n",
       "      <td>mdr deux nazi importe quoi</td>\n",
       "      <td>1</td>\n",
       "    </tr>\n",
       "    <tr>\n",
       "      <th>...</th>\n",
       "      <td>...</td>\n",
       "      <td>...</td>\n",
       "    </tr>\n",
       "    <tr>\n",
       "      <th>2851</th>\n",
       "      <td>kevin sal noir</td>\n",
       "      <td>1</td>\n",
       "    </tr>\n",
       "    <tr>\n",
       "      <th>2852</th>\n",
       "      <td>bougnoule bamboula sale arabe belle france jui...</td>\n",
       "      <td>1</td>\n",
       "    </tr>\n",
       "    <tr>\n",
       "      <th>2853</th>\n",
       "      <td>mahrezz viens traiter sal noir</td>\n",
       "      <td>1</td>\n",
       "    </tr>\n",
       "    <tr>\n",
       "      <th>2854</th>\n",
       "      <td>sal noir</td>\n",
       "      <td>1</td>\n",
       "    </tr>\n",
       "    <tr>\n",
       "      <th>2855</th>\n",
       "      <td>sal noir</td>\n",
       "      <td>1</td>\n",
       "    </tr>\n",
       "  </tbody>\n",
       "</table>\n",
       "<p>2856 rows × 2 columns</p>\n",
       "</div>"
      ],
      "text/plain": [
       "                                         Cleaned Tweets  Classement\n",
       "0                                   devait dégager nazi           1\n",
       "1     dois faire oral anglais hitler propagande sect...           0\n",
       "2                       a ça ressembler croix nazi mdrr           0\n",
       "3     curiosité voulu écouter discours longs hitler ...           0\n",
       "4                            mdr deux nazi importe quoi           1\n",
       "...                                                 ...         ...\n",
       "2851                                     kevin sal noir           1\n",
       "2852  bougnoule bamboula sale arabe belle france jui...           1\n",
       "2853                     mahrezz viens traiter sal noir           1\n",
       "2854                                           sal noir           1\n",
       "2855                                           sal noir           1\n",
       "\n",
       "[2856 rows x 2 columns]"
      ]
     },
     "execution_count": 15,
     "metadata": {},
     "output_type": "execute_result"
    }
   ],
   "source": [
    "final_df = pd.DataFrame(final_text, columns=[\"Cleaned Tweets\"])\n",
    "classements = classified_data['avis1']\n",
    "final_df['Classement'] = classements\n",
    "final_df"
   ]
  },
  {
   "cell_type": "markdown",
   "id": "0732d30a",
   "metadata": {},
   "source": [
    "**EMBEDDING WITH BERT**"
   ]
  },
  {
   "cell_type": "markdown",
   "id": "7c205033",
   "metadata": {
    "scrolled": true
   },
   "source": [
    "Import"
   ]
  },
  {
   "cell_type": "code",
   "execution_count": 16,
   "id": "4304ec1e",
   "metadata": {},
   "outputs": [],
   "source": [
    "# pip install torch torchvision\n",
    "# pip install transformers==4.15.0\n",
    "# pip install sentence-transformers\n",
    "# pip install ipywidgets"
   ]
  },
  {
   "cell_type": "code",
   "execution_count": 20,
   "id": "56ac13d5",
   "metadata": {},
   "outputs": [],
   "source": [
    "from sentence_transformers import SentenceTransformer\n",
    "model = SentenceTransformer('distiluse-base-multilingual-cased-v1')"
   ]
  },
  {
   "cell_type": "code",
   "execution_count": 21,
   "id": "8fdc0087",
   "metadata": {},
   "outputs": [],
   "source": [
    "sentence_embeddings = model.encode(final_text)"
   ]
  },
  {
   "cell_type": "code",
   "execution_count": 22,
   "id": "4e64d843",
   "metadata": {},
   "outputs": [
    {
     "data": {
      "text/plain": [
       "(2856, 512)"
      ]
     },
     "execution_count": 22,
     "metadata": {},
     "output_type": "execute_result"
    }
   ],
   "source": [
    "sentence_embeddings.shape"
   ]
  },
  {
   "cell_type": "code",
   "execution_count": 23,
   "id": "93e22750",
   "metadata": {},
   "outputs": [],
   "source": [
    "# for sentence, embedding in zip(final_text, sentence_embeddings):\n",
    "#     print(\"Sentence:\", sentence)\n",
    "#     print(\"Embedding:\", embedding)\n",
    "#     print(\"\")"
   ]
  },
  {
   "cell_type": "code",
   "execution_count": 24,
   "id": "ba74564c",
   "metadata": {},
   "outputs": [
    {
     "data": {
      "text/html": [
       "<div>\n",
       "<style scoped>\n",
       "    .dataframe tbody tr th:only-of-type {\n",
       "        vertical-align: middle;\n",
       "    }\n",
       "\n",
       "    .dataframe tbody tr th {\n",
       "        vertical-align: top;\n",
       "    }\n",
       "\n",
       "    .dataframe thead th {\n",
       "        text-align: right;\n",
       "    }\n",
       "</style>\n",
       "<table border=\"1\" class=\"dataframe\">\n",
       "  <thead>\n",
       "    <tr style=\"text-align: right;\">\n",
       "      <th></th>\n",
       "      <th>0</th>\n",
       "      <th>1</th>\n",
       "      <th>2</th>\n",
       "      <th>3</th>\n",
       "      <th>4</th>\n",
       "      <th>5</th>\n",
       "      <th>6</th>\n",
       "      <th>7</th>\n",
       "      <th>8</th>\n",
       "      <th>9</th>\n",
       "      <th>...</th>\n",
       "      <th>502</th>\n",
       "      <th>503</th>\n",
       "      <th>504</th>\n",
       "      <th>505</th>\n",
       "      <th>506</th>\n",
       "      <th>507</th>\n",
       "      <th>508</th>\n",
       "      <th>509</th>\n",
       "      <th>510</th>\n",
       "      <th>511</th>\n",
       "    </tr>\n",
       "  </thead>\n",
       "  <tbody>\n",
       "    <tr>\n",
       "      <th>0</th>\n",
       "      <td>-0.040990</td>\n",
       "      <td>0.014742</td>\n",
       "      <td>0.014450</td>\n",
       "      <td>-0.032188</td>\n",
       "      <td>-0.001382</td>\n",
       "      <td>-0.113907</td>\n",
       "      <td>-0.044004</td>\n",
       "      <td>0.043807</td>\n",
       "      <td>-0.050006</td>\n",
       "      <td>0.070010</td>\n",
       "      <td>...</td>\n",
       "      <td>-0.000834</td>\n",
       "      <td>0.017572</td>\n",
       "      <td>0.074853</td>\n",
       "      <td>-0.028266</td>\n",
       "      <td>-0.037651</td>\n",
       "      <td>0.021778</td>\n",
       "      <td>-0.012675</td>\n",
       "      <td>0.037532</td>\n",
       "      <td>0.073124</td>\n",
       "      <td>0.002818</td>\n",
       "    </tr>\n",
       "    <tr>\n",
       "      <th>1</th>\n",
       "      <td>-0.037154</td>\n",
       "      <td>-0.026686</td>\n",
       "      <td>0.058250</td>\n",
       "      <td>0.016171</td>\n",
       "      <td>0.044538</td>\n",
       "      <td>-0.083136</td>\n",
       "      <td>-0.034722</td>\n",
       "      <td>0.044099</td>\n",
       "      <td>-0.074935</td>\n",
       "      <td>0.012267</td>\n",
       "      <td>...</td>\n",
       "      <td>-0.025437</td>\n",
       "      <td>-0.039688</td>\n",
       "      <td>0.020507</td>\n",
       "      <td>0.013756</td>\n",
       "      <td>-0.003722</td>\n",
       "      <td>0.038629</td>\n",
       "      <td>0.026163</td>\n",
       "      <td>-0.029775</td>\n",
       "      <td>0.055509</td>\n",
       "      <td>-0.030264</td>\n",
       "    </tr>\n",
       "    <tr>\n",
       "      <th>2</th>\n",
       "      <td>-0.043957</td>\n",
       "      <td>-0.067542</td>\n",
       "      <td>0.069085</td>\n",
       "      <td>-0.017325</td>\n",
       "      <td>0.008731</td>\n",
       "      <td>-0.032363</td>\n",
       "      <td>-0.049847</td>\n",
       "      <td>-0.024525</td>\n",
       "      <td>-0.014037</td>\n",
       "      <td>0.027650</td>\n",
       "      <td>...</td>\n",
       "      <td>0.018029</td>\n",
       "      <td>0.080830</td>\n",
       "      <td>0.112252</td>\n",
       "      <td>-0.037111</td>\n",
       "      <td>-0.025388</td>\n",
       "      <td>0.003308</td>\n",
       "      <td>0.008781</td>\n",
       "      <td>0.001898</td>\n",
       "      <td>-0.020053</td>\n",
       "      <td>0.039027</td>\n",
       "    </tr>\n",
       "    <tr>\n",
       "      <th>3</th>\n",
       "      <td>-0.017678</td>\n",
       "      <td>0.018229</td>\n",
       "      <td>-0.031099</td>\n",
       "      <td>-0.036380</td>\n",
       "      <td>0.043640</td>\n",
       "      <td>-0.032819</td>\n",
       "      <td>0.082148</td>\n",
       "      <td>0.002441</td>\n",
       "      <td>-0.047859</td>\n",
       "      <td>-0.002672</td>\n",
       "      <td>...</td>\n",
       "      <td>0.004251</td>\n",
       "      <td>0.048585</td>\n",
       "      <td>-0.002496</td>\n",
       "      <td>0.040308</td>\n",
       "      <td>-0.001020</td>\n",
       "      <td>-0.039168</td>\n",
       "      <td>-0.022797</td>\n",
       "      <td>0.006239</td>\n",
       "      <td>0.056398</td>\n",
       "      <td>-0.078273</td>\n",
       "    </tr>\n",
       "    <tr>\n",
       "      <th>4</th>\n",
       "      <td>0.000087</td>\n",
       "      <td>-0.035987</td>\n",
       "      <td>0.014659</td>\n",
       "      <td>-0.058293</td>\n",
       "      <td>0.008797</td>\n",
       "      <td>-0.097896</td>\n",
       "      <td>-0.034231</td>\n",
       "      <td>-0.035488</td>\n",
       "      <td>-0.048830</td>\n",
       "      <td>-0.079534</td>\n",
       "      <td>...</td>\n",
       "      <td>0.046544</td>\n",
       "      <td>0.080474</td>\n",
       "      <td>0.097768</td>\n",
       "      <td>-0.009490</td>\n",
       "      <td>-0.021601</td>\n",
       "      <td>0.013435</td>\n",
       "      <td>-0.001842</td>\n",
       "      <td>-0.007572</td>\n",
       "      <td>0.056244</td>\n",
       "      <td>-0.027716</td>\n",
       "    </tr>\n",
       "    <tr>\n",
       "      <th>...</th>\n",
       "      <td>...</td>\n",
       "      <td>...</td>\n",
       "      <td>...</td>\n",
       "      <td>...</td>\n",
       "      <td>...</td>\n",
       "      <td>...</td>\n",
       "      <td>...</td>\n",
       "      <td>...</td>\n",
       "      <td>...</td>\n",
       "      <td>...</td>\n",
       "      <td>...</td>\n",
       "      <td>...</td>\n",
       "      <td>...</td>\n",
       "      <td>...</td>\n",
       "      <td>...</td>\n",
       "      <td>...</td>\n",
       "      <td>...</td>\n",
       "      <td>...</td>\n",
       "      <td>...</td>\n",
       "      <td>...</td>\n",
       "      <td>...</td>\n",
       "    </tr>\n",
       "    <tr>\n",
       "      <th>2851</th>\n",
       "      <td>0.045091</td>\n",
       "      <td>0.054384</td>\n",
       "      <td>0.028243</td>\n",
       "      <td>0.011641</td>\n",
       "      <td>0.018075</td>\n",
       "      <td>-0.035164</td>\n",
       "      <td>-0.004422</td>\n",
       "      <td>-0.010421</td>\n",
       "      <td>0.050437</td>\n",
       "      <td>0.021943</td>\n",
       "      <td>...</td>\n",
       "      <td>0.060232</td>\n",
       "      <td>-0.040102</td>\n",
       "      <td>0.023010</td>\n",
       "      <td>-0.020926</td>\n",
       "      <td>-0.039301</td>\n",
       "      <td>0.035150</td>\n",
       "      <td>-0.008535</td>\n",
       "      <td>-0.032618</td>\n",
       "      <td>0.028431</td>\n",
       "      <td>0.013416</td>\n",
       "    </tr>\n",
       "    <tr>\n",
       "      <th>2852</th>\n",
       "      <td>0.022828</td>\n",
       "      <td>0.045928</td>\n",
       "      <td>0.029991</td>\n",
       "      <td>-0.021987</td>\n",
       "      <td>0.042904</td>\n",
       "      <td>-0.081769</td>\n",
       "      <td>-0.010283</td>\n",
       "      <td>0.000887</td>\n",
       "      <td>0.044637</td>\n",
       "      <td>0.048189</td>\n",
       "      <td>...</td>\n",
       "      <td>0.024196</td>\n",
       "      <td>-0.017525</td>\n",
       "      <td>0.006251</td>\n",
       "      <td>-0.020748</td>\n",
       "      <td>0.032192</td>\n",
       "      <td>0.006308</td>\n",
       "      <td>0.064069</td>\n",
       "      <td>-0.032920</td>\n",
       "      <td>0.041429</td>\n",
       "      <td>-0.015009</td>\n",
       "    </tr>\n",
       "    <tr>\n",
       "      <th>2853</th>\n",
       "      <td>0.027547</td>\n",
       "      <td>0.036749</td>\n",
       "      <td>0.005985</td>\n",
       "      <td>0.017871</td>\n",
       "      <td>0.024609</td>\n",
       "      <td>-0.075670</td>\n",
       "      <td>-0.021503</td>\n",
       "      <td>-0.007337</td>\n",
       "      <td>0.040387</td>\n",
       "      <td>0.007286</td>\n",
       "      <td>...</td>\n",
       "      <td>0.110434</td>\n",
       "      <td>0.018604</td>\n",
       "      <td>0.015221</td>\n",
       "      <td>-0.021720</td>\n",
       "      <td>-0.031503</td>\n",
       "      <td>0.011623</td>\n",
       "      <td>-0.034953</td>\n",
       "      <td>-0.006035</td>\n",
       "      <td>0.052841</td>\n",
       "      <td>0.010131</td>\n",
       "    </tr>\n",
       "    <tr>\n",
       "      <th>2854</th>\n",
       "      <td>0.027365</td>\n",
       "      <td>0.046461</td>\n",
       "      <td>-0.008071</td>\n",
       "      <td>-0.013620</td>\n",
       "      <td>-0.023218</td>\n",
       "      <td>-0.039475</td>\n",
       "      <td>0.011383</td>\n",
       "      <td>-0.010844</td>\n",
       "      <td>0.018849</td>\n",
       "      <td>-0.013087</td>\n",
       "      <td>...</td>\n",
       "      <td>0.055492</td>\n",
       "      <td>-0.009762</td>\n",
       "      <td>0.005501</td>\n",
       "      <td>-0.014515</td>\n",
       "      <td>-0.043474</td>\n",
       "      <td>0.002562</td>\n",
       "      <td>-0.031522</td>\n",
       "      <td>-0.023956</td>\n",
       "      <td>0.090468</td>\n",
       "      <td>-0.007074</td>\n",
       "    </tr>\n",
       "    <tr>\n",
       "      <th>2855</th>\n",
       "      <td>0.027365</td>\n",
       "      <td>0.046461</td>\n",
       "      <td>-0.008071</td>\n",
       "      <td>-0.013620</td>\n",
       "      <td>-0.023218</td>\n",
       "      <td>-0.039475</td>\n",
       "      <td>0.011383</td>\n",
       "      <td>-0.010844</td>\n",
       "      <td>0.018849</td>\n",
       "      <td>-0.013087</td>\n",
       "      <td>...</td>\n",
       "      <td>0.055492</td>\n",
       "      <td>-0.009762</td>\n",
       "      <td>0.005501</td>\n",
       "      <td>-0.014515</td>\n",
       "      <td>-0.043474</td>\n",
       "      <td>0.002562</td>\n",
       "      <td>-0.031522</td>\n",
       "      <td>-0.023956</td>\n",
       "      <td>0.090468</td>\n",
       "      <td>-0.007074</td>\n",
       "    </tr>\n",
       "  </tbody>\n",
       "</table>\n",
       "<p>2856 rows × 512 columns</p>\n",
       "</div>"
      ],
      "text/plain": [
       "           0         1         2         3         4         5         6    \\\n",
       "0    -0.040990  0.014742  0.014450 -0.032188 -0.001382 -0.113907 -0.044004   \n",
       "1    -0.037154 -0.026686  0.058250  0.016171  0.044538 -0.083136 -0.034722   \n",
       "2    -0.043957 -0.067542  0.069085 -0.017325  0.008731 -0.032363 -0.049847   \n",
       "3    -0.017678  0.018229 -0.031099 -0.036380  0.043640 -0.032819  0.082148   \n",
       "4     0.000087 -0.035987  0.014659 -0.058293  0.008797 -0.097896 -0.034231   \n",
       "...        ...       ...       ...       ...       ...       ...       ...   \n",
       "2851  0.045091  0.054384  0.028243  0.011641  0.018075 -0.035164 -0.004422   \n",
       "2852  0.022828  0.045928  0.029991 -0.021987  0.042904 -0.081769 -0.010283   \n",
       "2853  0.027547  0.036749  0.005985  0.017871  0.024609 -0.075670 -0.021503   \n",
       "2854  0.027365  0.046461 -0.008071 -0.013620 -0.023218 -0.039475  0.011383   \n",
       "2855  0.027365  0.046461 -0.008071 -0.013620 -0.023218 -0.039475  0.011383   \n",
       "\n",
       "           7         8         9    ...       502       503       504  \\\n",
       "0     0.043807 -0.050006  0.070010  ... -0.000834  0.017572  0.074853   \n",
       "1     0.044099 -0.074935  0.012267  ... -0.025437 -0.039688  0.020507   \n",
       "2    -0.024525 -0.014037  0.027650  ...  0.018029  0.080830  0.112252   \n",
       "3     0.002441 -0.047859 -0.002672  ...  0.004251  0.048585 -0.002496   \n",
       "4    -0.035488 -0.048830 -0.079534  ...  0.046544  0.080474  0.097768   \n",
       "...        ...       ...       ...  ...       ...       ...       ...   \n",
       "2851 -0.010421  0.050437  0.021943  ...  0.060232 -0.040102  0.023010   \n",
       "2852  0.000887  0.044637  0.048189  ...  0.024196 -0.017525  0.006251   \n",
       "2853 -0.007337  0.040387  0.007286  ...  0.110434  0.018604  0.015221   \n",
       "2854 -0.010844  0.018849 -0.013087  ...  0.055492 -0.009762  0.005501   \n",
       "2855 -0.010844  0.018849 -0.013087  ...  0.055492 -0.009762  0.005501   \n",
       "\n",
       "           505       506       507       508       509       510       511  \n",
       "0    -0.028266 -0.037651  0.021778 -0.012675  0.037532  0.073124  0.002818  \n",
       "1     0.013756 -0.003722  0.038629  0.026163 -0.029775  0.055509 -0.030264  \n",
       "2    -0.037111 -0.025388  0.003308  0.008781  0.001898 -0.020053  0.039027  \n",
       "3     0.040308 -0.001020 -0.039168 -0.022797  0.006239  0.056398 -0.078273  \n",
       "4    -0.009490 -0.021601  0.013435 -0.001842 -0.007572  0.056244 -0.027716  \n",
       "...        ...       ...       ...       ...       ...       ...       ...  \n",
       "2851 -0.020926 -0.039301  0.035150 -0.008535 -0.032618  0.028431  0.013416  \n",
       "2852 -0.020748  0.032192  0.006308  0.064069 -0.032920  0.041429 -0.015009  \n",
       "2853 -0.021720 -0.031503  0.011623 -0.034953 -0.006035  0.052841  0.010131  \n",
       "2854 -0.014515 -0.043474  0.002562 -0.031522 -0.023956  0.090468 -0.007074  \n",
       "2855 -0.014515 -0.043474  0.002562 -0.031522 -0.023956  0.090468 -0.007074  \n",
       "\n",
       "[2856 rows x 512 columns]"
      ]
     },
     "execution_count": 24,
     "metadata": {},
     "output_type": "execute_result"
    }
   ],
   "source": [
    "# x_train + x_test\n",
    "bert_df = pd.DataFrame(sentence_embeddings)\n",
    "bert_df"
   ]
  },
  {
   "cell_type": "code",
   "execution_count": 25,
   "id": "62a889bd",
   "metadata": {},
   "outputs": [],
   "source": [
    "# Split Data to train and test parts\n",
    "y = final_df[\"Classement\"]\n",
    "X_train, X_test, y_train, y_test = train_test_split(bert_df, y, test_size=0.2, random_state=42)"
   ]
  },
  {
   "cell_type": "markdown",
   "id": "346e01ad",
   "metadata": {},
   "source": [
    "## Random Forest"
   ]
  },
  {
   "cell_type": "code",
   "execution_count": 26,
   "id": "fda3d011",
   "metadata": {},
   "outputs": [
    {
     "data": {
      "text/plain": [
       "RandomForestClassifier()"
      ]
     },
     "execution_count": 26,
     "metadata": {},
     "output_type": "execute_result"
    }
   ],
   "source": [
    "random_forest_model = RandomForestClassifier()\n",
    "random_forest_model.fit(X_train, y_train)"
   ]
  },
  {
   "cell_type": "code",
   "execution_count": 27,
   "id": "9da803c4",
   "metadata": {},
   "outputs": [
    {
     "name": "stdout",
     "output_type": "stream",
     "text": [
      "Accuracy: 0.7692307692307693\n"
     ]
    }
   ],
   "source": [
    "y_pred = random_forest_model.predict(X_test)\n",
    "print(\"Accuracy:\", accuracy_score(y_test,y_pred))"
   ]
  },
  {
   "cell_type": "code",
   "execution_count": 28,
   "id": "884b9ca1",
   "metadata": {},
   "outputs": [
    {
     "name": "stdout",
     "output_type": "stream",
     "text": [
      "              precision    recall  f1-score   support\n",
      "\n",
      "           0       0.76      0.95      0.84       375\n",
      "           1       0.82      0.42      0.56       197\n",
      "\n",
      "    accuracy                           0.77       572\n",
      "   macro avg       0.79      0.69      0.70       572\n",
      "weighted avg       0.78      0.77      0.75       572\n",
      "\n"
     ]
    }
   ],
   "source": [
    "print(classification_report(y_test, y_pred))"
   ]
  },
  {
   "cell_type": "code",
   "execution_count": 29,
   "id": "36c4f414",
   "metadata": {},
   "outputs": [
    {
     "name": "stdout",
     "output_type": "stream",
     "text": [
      "Confusion Matrix:\n",
      "[357  18 114  83]\n"
     ]
    }
   ],
   "source": [
    "print(\"Confusion Matrix:\")\n",
    "print(confusion_matrix(y_test, y_pred).ravel())\n",
    "# TN FP FN TP"
   ]
  },
  {
   "cell_type": "code",
   "execution_count": 30,
   "id": "634dbdb7",
   "metadata": {},
   "outputs": [
    {
     "data": {
      "text/plain": [
       "<sklearn.metrics._plot.confusion_matrix.ConfusionMatrixDisplay at 0x16b27d490>"
      ]
     },
     "execution_count": 30,
     "metadata": {},
     "output_type": "execute_result"
    },
    {
     "data": {
      "image/png": "[encoded data removed]",
      "text/plain": [
       "<Figure size 432x288 with 2 Axes>"
      ]
     },
     "metadata": {
      "needs_background": "light"
     },
     "output_type": "display_data"
    }
   ],
   "source": [
    "import matplotlib.pyplot as plt\n",
    "from sklearn.metrics import plot_confusion_matrix\n",
    "plot_confusion_matrix(random_forest_model, X_test, y_test)"
   ]
  },
  {
   "cell_type": "markdown",
   "id": "0c77c865",
   "metadata": {},
   "source": [
    "## Logistic Regression"
   ]
  },
  {
   "cell_type": "code",
   "execution_count": 48,
   "id": "9ec593d7",
   "metadata": {},
   "outputs": [],
   "source": [
    "logistic_regression_model = LogisticRegression().fit(X_train, y_train)"
   ]
  },
  {
   "cell_type": "code",
   "execution_count": 49,
   "id": "e60bf08e",
   "metadata": {},
   "outputs": [
    {
     "data": {
      "text/plain": [
       "0.7604895104895105"
      ]
     },
     "execution_count": 49,
     "metadata": {},
     "output_type": "execute_result"
    }
   ],
   "source": [
    "y_pred_LR = logistic_regression_model.predict(X_test)\n",
    "logistic_regression_model.score(X_test, y_test)"
   ]
  },
  {
   "cell_type": "code",
   "execution_count": 50,
   "id": "11907824",
   "metadata": {},
   "outputs": [
    {
     "name": "stdout",
     "output_type": "stream",
     "text": [
      "              precision    recall  f1-score   support\n",
      "\n",
      "           0       0.78      0.88      0.83       375\n",
      "           1       0.70      0.54      0.61       197\n",
      "\n",
      "    accuracy                           0.76       572\n",
      "   macro avg       0.74      0.71      0.72       572\n",
      "weighted avg       0.75      0.76      0.75       572\n",
      "\n"
     ]
    }
   ],
   "source": [
    "print(classification_report(y_test, y_pred_LR))"
   ]
  },
  {
   "cell_type": "code",
   "execution_count": 51,
   "id": "2ee01fd8",
   "metadata": {},
   "outputs": [
    {
     "name": "stdout",
     "output_type": "stream",
     "text": [
      "Confusion Matrix:\n",
      "[329  46  91 106]\n"
     ]
    }
   ],
   "source": [
    "print(\"Confusion Matrix:\")\n",
    "print(confusion_matrix(y_test, y_pred_LR).ravel())"
   ]
  },
  {
   "cell_type": "code",
   "execution_count": 52,
   "id": "011eeb5c",
   "metadata": {},
   "outputs": [
    {
     "data": {
      "text/plain": [
       "<sklearn.metrics._plot.confusion_matrix.ConfusionMatrixDisplay at 0x16ba76f70>"
      ]
     },
     "execution_count": 52,
     "metadata": {},
     "output_type": "execute_result"
    },
    {
     "data": {
      "image/png": "[encoded data removed]",
      "text/plain": [
       "<Figure size 432x288 with 2 Axes>"
      ]
     },
     "metadata": {
      "needs_background": "light"
     },
     "output_type": "display_data"
    }
   ],
   "source": [
    "import matplotlib.pyplot as plt\n",
    "from sklearn.metrics import plot_confusion_matrix\n",
    "plot_confusion_matrix(logistic_regression_model, X_test, y_test)"
   ]
  },
  {
   "cell_type": "markdown",
   "id": "3928bea6",
   "metadata": {},
   "source": [
    "## XGBOOST"
   ]
  },
  {
   "cell_type": "code",
   "execution_count": 36,
   "id": "dc37d3a0",
   "metadata": {},
   "outputs": [],
   "source": [
    "xgboost_model = GradientBoostingClassifier().fit(X_train, y_train)"
   ]
  },
  {
   "cell_type": "code",
   "execution_count": 37,
   "id": "991834ef",
   "metadata": {},
   "outputs": [
    {
     "data": {
      "text/plain": [
       "0.7604895104895105"
      ]
     },
     "execution_count": 37,
     "metadata": {},
     "output_type": "execute_result"
    }
   ],
   "source": [
    "y_pred = xgboost_model.predict(X_test)\n",
    "xgboost_model.score(X_test, y_test)"
   ]
  },
  {
   "cell_type": "code",
   "execution_count": 38,
   "id": "24a11a44",
   "metadata": {},
   "outputs": [
    {
     "name": "stdout",
     "output_type": "stream",
     "text": [
      "              precision    recall  f1-score   support\n",
      "\n",
      "           0       0.78      0.89      0.83       375\n",
      "           1       0.71      0.51      0.59       197\n",
      "\n",
      "    accuracy                           0.76       572\n",
      "   macro avg       0.74      0.70      0.71       572\n",
      "weighted avg       0.75      0.76      0.75       572\n",
      "\n"
     ]
    }
   ],
   "source": [
    "print(classification_report(y_test, y_pred))"
   ]
  },
  {
   "cell_type": "code",
   "execution_count": 39,
   "id": "f255b994",
   "metadata": {},
   "outputs": [
    {
     "name": "stdout",
     "output_type": "stream",
     "text": [
      "Confusion Matrix:\n",
      "[335  40  97 100]\n"
     ]
    }
   ],
   "source": [
    "print(\"Confusion Matrix:\")\n",
    "print(confusion_matrix(y_test, y_pred).ravel())"
   ]
  },
  {
   "cell_type": "code",
   "execution_count": 40,
   "id": "59242cc5",
   "metadata": {},
   "outputs": [
    {
     "data": {
      "text/plain": [
       "<sklearn.metrics._plot.confusion_matrix.ConfusionMatrixDisplay at 0x16bb8bcd0>"
      ]
     },
     "execution_count": 40,
     "metadata": {},
     "output_type": "execute_result"
    },
    {
     "data": {
      "image/png": "[encoded data removed]",
      "text/plain": [
       "<Figure size 432x288 with 2 Axes>"
      ]
     },
     "metadata": {
      "needs_background": "light"
     },
     "output_type": "display_data"
    }
   ],
   "source": [
    "import matplotlib.pyplot as plt\n",
    "from sklearn.metrics import plot_confusion_matrix\n",
    "plot_confusion_matrix(xgboost_model, X_test, y_test)"
   ]
  }
 ],
 "metadata": {
  "kernelspec": {
   "display_name": "Python 3 (ipykernel)",
   "language": "python",
   "name": "python3"
  },
  "language_info": {
   "codemirror_mode": {
    "name": "ipython",
    "version": 3
   },
   "file_extension": ".py",
   "mimetype": "text/x-python",
   "name": "python",
   "nbconvert_exporter": "python",
   "pygments_lexer": "ipython3",
   "version": "3.9.9"
  }
 },
 "nbformat": 4,
 "nbformat_minor": 5
}
