{
 "cells": [
  {
   "cell_type": "code",
   "execution_count": 3,
   "id": "a9e20d57",
   "metadata": {},
   "outputs": [],
   "source": [
    "import pandas as pd\n",
    "import numpy as np\n",
    "import warnings\n",
    "\n",
    "from sklearn.feature_extraction.text import TfidfVectorizer\n",
    "\n",
    "import re\n",
    "import optuna\n",
    "\n",
    "from sklearn.model_selection import train_test_split\n",
    "\n",
    "from sklearn.ensemble import RandomForestClassifier\n",
    "from sklearn.metrics import classification_report, confusion_matrix, accuracy_score, plot_confusion_matrix\n",
    "from sklearn.metrics import roc_auc_score\n",
    "import warnings; warnings.simplefilter('ignore')\n",
    "\n",
    "from sklearn.linear_model import LogisticRegression\n",
    "\n",
    "from sklearn.ensemble import GradientBoostingClassifier"
   ]
  },
  {
   "cell_type": "markdown",
   "id": "953e9353",
   "metadata": {},
   "source": [
    "# READ DATA"
   ]
  },
  {
   "cell_type": "code",
   "execution_count": 4,
   "id": "03d5464a",
   "metadata": {},
   "outputs": [],
   "source": [
    "# Read the data\n",
    "classified_data = pd.read_csv(\"final_data.csv\",  sep=';')\n",
    "classified_data.replace([np.inf, -np.inf], np.nan, inplace=True)\n",
    "classified_data = classified_data.dropna()\n",
    "classified_data.avis1 = classified_data.avis1.astype(int)"
   ]
  },
  {
   "cell_type": "code",
   "execution_count": 5,
   "id": "ccfc3c13",
   "metadata": {},
   "outputs": [
    {
     "data": {
      "text/html": [
       "<div>\n",
       "<style scoped>\n",
       "    .dataframe tbody tr th:only-of-type {\n",
       "        vertical-align: middle;\n",
       "    }\n",
       "\n",
       "    .dataframe tbody tr th {\n",
       "        vertical-align: top;\n",
       "    }\n",
       "\n",
       "    .dataframe thead th {\n",
       "        text-align: right;\n",
       "    }\n",
       "</style>\n",
       "<table border=\"1\" class=\"dataframe\">\n",
       "  <thead>\n",
       "    <tr style=\"text-align: right;\">\n",
       "      <th></th>\n",
       "      <th>avis1</th>\n",
       "      <th>text</th>\n",
       "      <th>id</th>\n",
       "    </tr>\n",
       "  </thead>\n",
       "  <tbody>\n",
       "    <tr>\n",
       "      <th>0</th>\n",
       "      <td>1</td>\n",
       "      <td>Elle ne devait pas dégager la nazi ??? https:/...</td>\n",
       "      <td>1.466478e+18</td>\n",
       "    </tr>\n",
       "    <tr>\n",
       "      <th>1</th>\n",
       "      <td>0</td>\n",
       "      <td>je dois faire un oral en anglais sur Hitler et...</td>\n",
       "      <td>1.466478e+18</td>\n",
       "    </tr>\n",
       "    <tr>\n",
       "      <th>2</th>\n",
       "      <td>0</td>\n",
       "      <td>@ambrassmoi_ A ça 🤏 de ressembler à la croix n...</td>\n",
       "      <td>1.466478e+18</td>\n",
       "    </tr>\n",
       "    <tr>\n",
       "      <th>3</th>\n",
       "      <td>0</td>\n",
       "      <td>Par curiosité, j’ai voulu écouter les discours...</td>\n",
       "      <td>1.466478e+18</td>\n",
       "    </tr>\n",
       "    <tr>\n",
       "      <th>4</th>\n",
       "      <td>1</td>\n",
       "      <td>@tical10 @ExBarcaFan74523 @ConflitsFrance Mdr ...</td>\n",
       "      <td>1.466478e+18</td>\n",
       "    </tr>\n",
       "    <tr>\n",
       "      <th>...</th>\n",
       "      <td>...</td>\n",
       "      <td>...</td>\n",
       "      <td>...</td>\n",
       "    </tr>\n",
       "    <tr>\n",
       "      <th>2851</th>\n",
       "      <td>1</td>\n",
       "      <td>Kevin c’est un sal noir.</td>\n",
       "      <td>1.464411e+18</td>\n",
       "    </tr>\n",
       "    <tr>\n",
       "      <th>2852</th>\n",
       "      <td>1</td>\n",
       "      <td>bougnoule bamboula sale arabe , elle est belle...</td>\n",
       "      <td>1.464364e+18</td>\n",
       "    </tr>\n",
       "    <tr>\n",
       "      <th>2853</th>\n",
       "      <td>1</td>\n",
       "      <td>@B_mahrezz Tu viens de le traiter de sal noir ?</td>\n",
       "      <td>1.464234e+18</td>\n",
       "    </tr>\n",
       "    <tr>\n",
       "      <th>2854</th>\n",
       "      <td>1</td>\n",
       "      <td>SAL NOIR https://t.co/JraABFtel8</td>\n",
       "      <td>1.463961e+18</td>\n",
       "    </tr>\n",
       "    <tr>\n",
       "      <th>2855</th>\n",
       "      <td>1</td>\n",
       "      <td>Sal Noir https://t.co/9Sr7f4Mzr5 https://t.co/...</td>\n",
       "      <td>1.463959e+18</td>\n",
       "    </tr>\n",
       "  </tbody>\n",
       "</table>\n",
       "<p>2856 rows × 3 columns</p>\n",
       "</div>"
      ],
      "text/plain": [
       "      avis1                                               text            id\n",
       "0         1  Elle ne devait pas dégager la nazi ??? https:/...  1.466478e+18\n",
       "1         0  je dois faire un oral en anglais sur Hitler et...  1.466478e+18\n",
       "2         0  @ambrassmoi_ A ça 🤏 de ressembler à la croix n...  1.466478e+18\n",
       "3         0  Par curiosité, j’ai voulu écouter les discours...  1.466478e+18\n",
       "4         1  @tical10 @ExBarcaFan74523 @ConflitsFrance Mdr ...  1.466478e+18\n",
       "...     ...                                                ...           ...\n",
       "2851      1                           Kevin c’est un sal noir.  1.464411e+18\n",
       "2852      1  bougnoule bamboula sale arabe , elle est belle...  1.464364e+18\n",
       "2853      1    @B_mahrezz Tu viens de le traiter de sal noir ?  1.464234e+18\n",
       "2854      1                   SAL NOIR https://t.co/JraABFtel8  1.463961e+18\n",
       "2855      1  Sal Noir https://t.co/9Sr7f4Mzr5 https://t.co/...  1.463959e+18\n",
       "\n",
       "[2856 rows x 3 columns]"
      ]
     },
     "execution_count": 5,
     "metadata": {},
     "output_type": "execute_result"
    }
   ],
   "source": [
    "classified_data"
   ]
  },
  {
   "cell_type": "code",
   "execution_count": 6,
   "id": "9564593f",
   "metadata": {},
   "outputs": [
    {
     "data": {
      "text/plain": [
       "0    1851\n",
       "1    1005\n",
       "Name: avis1, dtype: int64"
      ]
     },
     "execution_count": 6,
     "metadata": {},
     "output_type": "execute_result"
    }
   ],
   "source": [
    "classified_data['avis1'].value_counts()"
   ]
  },
  {
   "cell_type": "markdown",
   "id": "9ff363fc",
   "metadata": {},
   "source": [
    "# DATA CLEAN "
   ]
  },
  {
   "cell_type": "code",
   "execution_count": 7,
   "id": "17f22a77",
   "metadata": {},
   "outputs": [],
   "source": [
    "# all the tweets\n",
    "text = list(classified_data['text'])"
   ]
  },
  {
   "cell_type": "code",
   "execution_count": 8,
   "id": "ceed3a03",
   "metadata": {},
   "outputs": [],
   "source": [
    "emoji_pattern = re.compile(\"[\"\n",
    "        u\"\\U0001F600-\\U0001F64F\"  # emoticons\n",
    "        u\"\\U0001F300-\\U0001F5FF\"  # symbols & pictographs\n",
    "        u\"\\U0001F680-\\U0001F6FF\"  # transport & map symbols\n",
    "        u\"\\U0001F1E0-\\U0001F1FF\"  # flags (iOS)\n",
    "        u\"\\U00002500-\\U00002BEF\"  # chinese char\n",
    "        u\"\\U00002702-\\U000027B0\"\n",
    "        u\"\\U00002702-\\U000027B0\"\n",
    "        u\"\\U000024C2-\\U0001F251\"\n",
    "        u\"\\U0001f926-\\U0001f937\"\n",
    "        u\"\\U00010000-\\U0010ffff\"\n",
    "        u\"\\u2640-\\u2642\" \n",
    "        u\"\\u2600-\\u2B55\"\n",
    "        u\"\\u200d\"\n",
    "        u\"\\u23cf\"\n",
    "        u\"\\u23e9\"\n",
    "        u\"\\u231a\"\n",
    "        u\"\\ufe0f\"  # dingbats\n",
    "        u\"\\u3030\"\n",
    "                      \"]+\", re.UNICODE)"
   ]
  },
  {
   "cell_type": "code",
   "execution_count": 9,
   "id": "ee7a3381",
   "metadata": {},
   "outputs": [],
   "source": [
    "def cleaner(tweet):\n",
    "    tweet = re.sub(\"@[A-Za-z0-9]+\",\" \",tweet) #Remove @ sign\n",
    "    tweet = re.sub(r\"(?:\\@|http?\\://|https?\\://|www)\\S+\", \" \", tweet) #Remove http links\n",
    "    tweet = \" \".join(tweet.split())\n",
    "    tweet = tweet.replace(\"#\", \" \").replace(\"_\", \" \") #Remove hashtag sign but keep the text\n",
    "    tweet = re.sub(r'[^\\w\\s]',' ',tweet)\n",
    "    final_tweet = emoji_pattern.sub(r'', tweet) #Remove all emojis\n",
    "    return final_tweet"
   ]
  },
  {
   "cell_type": "code",
   "execution_count": 10,
   "id": "c2be6840",
   "metadata": {
    "scrolled": false
   },
   "outputs": [],
   "source": [
    "map_object = map(cleaner, text)\n",
    "cleaned_text = list(map_object)\n",
    "final_text = list(map(lambda x: x.lower(), cleaned_text))"
   ]
  },
  {
   "cell_type": "code",
   "execution_count": 11,
   "id": "568fee12",
   "metadata": {},
   "outputs": [
    {
     "data": {
      "text/html": [
       "<div>\n",
       "<style scoped>\n",
       "    .dataframe tbody tr th:only-of-type {\n",
       "        vertical-align: middle;\n",
       "    }\n",
       "\n",
       "    .dataframe tbody tr th {\n",
       "        vertical-align: top;\n",
       "    }\n",
       "\n",
       "    .dataframe thead th {\n",
       "        text-align: right;\n",
       "    }\n",
       "</style>\n",
       "<table border=\"1\" class=\"dataframe\">\n",
       "  <thead>\n",
       "    <tr style=\"text-align: right;\">\n",
       "      <th></th>\n",
       "      <th>Cleaned Tweets</th>\n",
       "      <th>Classement</th>\n",
       "    </tr>\n",
       "  </thead>\n",
       "  <tbody>\n",
       "    <tr>\n",
       "      <th>0</th>\n",
       "      <td>elle ne devait pas dégager la nazi</td>\n",
       "      <td>1</td>\n",
       "    </tr>\n",
       "    <tr>\n",
       "      <th>1</th>\n",
       "      <td>je dois faire un oral en anglais sur hitler et...</td>\n",
       "      <td>0</td>\n",
       "    </tr>\n",
       "    <tr>\n",
       "      <th>2</th>\n",
       "      <td>a ça   de ressembler à la croix nazi mdrr</td>\n",
       "      <td>0</td>\n",
       "    </tr>\n",
       "    <tr>\n",
       "      <th>3</th>\n",
       "      <td>par curiosité  j ai voulu écouter les discours...</td>\n",
       "      <td>0</td>\n",
       "    </tr>\n",
       "    <tr>\n",
       "      <th>4</th>\n",
       "      <td>mdr deux nazi n importe quoi</td>\n",
       "      <td>1</td>\n",
       "    </tr>\n",
       "    <tr>\n",
       "      <th>...</th>\n",
       "      <td>...</td>\n",
       "      <td>...</td>\n",
       "    </tr>\n",
       "    <tr>\n",
       "      <th>2851</th>\n",
       "      <td>kevin c est un sal noir</td>\n",
       "      <td>1</td>\n",
       "    </tr>\n",
       "    <tr>\n",
       "      <th>2852</th>\n",
       "      <td>bougnoule bamboula sale arabe   elle est belle...</td>\n",
       "      <td>1</td>\n",
       "    </tr>\n",
       "    <tr>\n",
       "      <th>2853</th>\n",
       "      <td>mahrezz tu viens de le traiter de sal noir</td>\n",
       "      <td>1</td>\n",
       "    </tr>\n",
       "    <tr>\n",
       "      <th>2854</th>\n",
       "      <td>sal noir</td>\n",
       "      <td>1</td>\n",
       "    </tr>\n",
       "    <tr>\n",
       "      <th>2855</th>\n",
       "      <td>sal noir</td>\n",
       "      <td>1</td>\n",
       "    </tr>\n",
       "  </tbody>\n",
       "</table>\n",
       "<p>2856 rows × 2 columns</p>\n",
       "</div>"
      ],
      "text/plain": [
       "                                         Cleaned Tweets  Classement\n",
       "0                elle ne devait pas dégager la nazi               1\n",
       "1     je dois faire un oral en anglais sur hitler et...           0\n",
       "2             a ça   de ressembler à la croix nazi mdrr           0\n",
       "3     par curiosité  j ai voulu écouter les discours...           0\n",
       "4                    mdr deux nazi n importe quoi                 1\n",
       "...                                                 ...         ...\n",
       "2851                           kevin c est un sal noir            1\n",
       "2852  bougnoule bamboula sale arabe   elle est belle...           1\n",
       "2853       mahrezz tu viens de le traiter de sal noir             1\n",
       "2854                                           sal noir           1\n",
       "2855                                           sal noir           1\n",
       "\n",
       "[2856 rows x 2 columns]"
      ]
     },
     "execution_count": 11,
     "metadata": {},
     "output_type": "execute_result"
    }
   ],
   "source": [
    "final_df = pd.DataFrame(final_text, columns=[\"Cleaned Tweets\"])\n",
    "classements = classified_data['avis1']\n",
    "final_df['Classement'] = classements\n",
    "final_df"
   ]
  },
  {
   "cell_type": "markdown",
   "id": "84db08ad",
   "metadata": {},
   "source": [
    "# TFIDF VECTORIZER"
   ]
  },
  {
   "cell_type": "code",
   "execution_count": 12,
   "id": "103093d4",
   "metadata": {},
   "outputs": [],
   "source": [
    "import nltk\n",
    "from  nltk.stem.snowball import FrenchStemmer\n",
    "\n",
    "def generate_stopwords():\n",
    "    stopwords_fr = nltk.corpus.stopwords.words(\"french\")\n",
    "    stop_words = stopwords_fr\n",
    "    other_exclusions = [\"les\"]\n",
    "    stop_words.extend(other_exclusions)\n",
    "    return stop_words"
   ]
  },
  {
   "cell_type": "code",
   "execution_count": 13,
   "id": "817ec6f2",
   "metadata": {},
   "outputs": [],
   "source": [
    "# Treatment on the first tweets\n",
    "vectorizer = TfidfVectorizer(stop_words=generate_stopwords())\n",
    "B = vectorizer.fit_transform(final_text)\n",
    "list_of_words = vectorizer.get_feature_names_out()"
   ]
  },
  {
   "cell_type": "code",
   "execution_count": 14,
   "id": "639fc6ed",
   "metadata": {},
   "outputs": [
    {
     "data": {
      "text/plain": [
       "(2856, 10138)"
      ]
     },
     "execution_count": 14,
     "metadata": {},
     "output_type": "execute_result"
    }
   ],
   "source": [
    "B.shape"
   ]
  },
  {
   "cell_type": "code",
   "execution_count": 15,
   "id": "1b5b4a1f",
   "metadata": {},
   "outputs": [
    {
     "data": {
      "text/plain": [
       "array([[0, 0, 0, ..., 0, 0, 0],\n",
       "       [0, 0, 0, ..., 0, 0, 0],\n",
       "       [0, 0, 0, ..., 0, 0, 0],\n",
       "       ...,\n",
       "       [0, 0, 0, ..., 0, 0, 0],\n",
       "       [0, 0, 0, ..., 0, 0, 0],\n",
       "       [0, 0, 0, ..., 0, 0, 0]])"
      ]
     },
     "execution_count": 15,
     "metadata": {},
     "output_type": "execute_result"
    }
   ],
   "source": [
    "# prepare the X matrix for the models\n",
    "bool_X = B.A > 0\n",
    "final_X = bool_X.astype(int)\n",
    "final_X"
   ]
  },
  {
   "cell_type": "code",
   "execution_count": 16,
   "id": "50abdc5d",
   "metadata": {},
   "outputs": [
    {
     "data": {
      "text/html": [
       "<div>\n",
       "<style scoped>\n",
       "    .dataframe tbody tr th:only-of-type {\n",
       "        vertical-align: middle;\n",
       "    }\n",
       "\n",
       "    .dataframe tbody tr th {\n",
       "        vertical-align: top;\n",
       "    }\n",
       "\n",
       "    .dataframe thead th {\n",
       "        text-align: right;\n",
       "    }\n",
       "</style>\n",
       "<table border=\"1\" class=\"dataframe\">\n",
       "  <thead>\n",
       "    <tr style=\"text-align: right;\">\n",
       "      <th></th>\n",
       "      <th>00</th>\n",
       "      <th>000</th>\n",
       "      <th>001</th>\n",
       "      <th>008</th>\n",
       "      <th>0311</th>\n",
       "      <th>058</th>\n",
       "      <th>06</th>\n",
       "      <th>07h</th>\n",
       "      <th>0ff</th>\n",
       "      <th>10</th>\n",
       "      <th>...</th>\n",
       "      <th>être</th>\n",
       "      <th>êtres</th>\n",
       "      <th>êxtreme</th>\n",
       "      <th>île</th>\n",
       "      <th>ïse</th>\n",
       "      <th>œil</th>\n",
       "      <th>œillères</th>\n",
       "      <th>œuf</th>\n",
       "      <th>œuvre</th>\n",
       "      <th>œuvres</th>\n",
       "    </tr>\n",
       "  </thead>\n",
       "  <tbody>\n",
       "    <tr>\n",
       "      <th>0</th>\n",
       "      <td>0</td>\n",
       "      <td>0</td>\n",
       "      <td>0</td>\n",
       "      <td>0</td>\n",
       "      <td>0</td>\n",
       "      <td>0</td>\n",
       "      <td>0</td>\n",
       "      <td>0</td>\n",
       "      <td>0</td>\n",
       "      <td>0</td>\n",
       "      <td>...</td>\n",
       "      <td>0</td>\n",
       "      <td>0</td>\n",
       "      <td>0</td>\n",
       "      <td>0</td>\n",
       "      <td>0</td>\n",
       "      <td>0</td>\n",
       "      <td>0</td>\n",
       "      <td>0</td>\n",
       "      <td>0</td>\n",
       "      <td>0</td>\n",
       "    </tr>\n",
       "    <tr>\n",
       "      <th>1</th>\n",
       "      <td>0</td>\n",
       "      <td>0</td>\n",
       "      <td>0</td>\n",
       "      <td>0</td>\n",
       "      <td>0</td>\n",
       "      <td>0</td>\n",
       "      <td>0</td>\n",
       "      <td>0</td>\n",
       "      <td>0</td>\n",
       "      <td>0</td>\n",
       "      <td>...</td>\n",
       "      <td>0</td>\n",
       "      <td>0</td>\n",
       "      <td>0</td>\n",
       "      <td>0</td>\n",
       "      <td>0</td>\n",
       "      <td>0</td>\n",
       "      <td>0</td>\n",
       "      <td>0</td>\n",
       "      <td>0</td>\n",
       "      <td>0</td>\n",
       "    </tr>\n",
       "    <tr>\n",
       "      <th>2</th>\n",
       "      <td>0</td>\n",
       "      <td>0</td>\n",
       "      <td>0</td>\n",
       "      <td>0</td>\n",
       "      <td>0</td>\n",
       "      <td>0</td>\n",
       "      <td>0</td>\n",
       "      <td>0</td>\n",
       "      <td>0</td>\n",
       "      <td>0</td>\n",
       "      <td>...</td>\n",
       "      <td>0</td>\n",
       "      <td>0</td>\n",
       "      <td>0</td>\n",
       "      <td>0</td>\n",
       "      <td>0</td>\n",
       "      <td>0</td>\n",
       "      <td>0</td>\n",
       "      <td>0</td>\n",
       "      <td>0</td>\n",
       "      <td>0</td>\n",
       "    </tr>\n",
       "    <tr>\n",
       "      <th>3</th>\n",
       "      <td>0</td>\n",
       "      <td>0</td>\n",
       "      <td>0</td>\n",
       "      <td>0</td>\n",
       "      <td>0</td>\n",
       "      <td>0</td>\n",
       "      <td>0</td>\n",
       "      <td>0</td>\n",
       "      <td>0</td>\n",
       "      <td>0</td>\n",
       "      <td>...</td>\n",
       "      <td>0</td>\n",
       "      <td>0</td>\n",
       "      <td>0</td>\n",
       "      <td>0</td>\n",
       "      <td>0</td>\n",
       "      <td>0</td>\n",
       "      <td>0</td>\n",
       "      <td>0</td>\n",
       "      <td>0</td>\n",
       "      <td>0</td>\n",
       "    </tr>\n",
       "    <tr>\n",
       "      <th>4</th>\n",
       "      <td>0</td>\n",
       "      <td>0</td>\n",
       "      <td>0</td>\n",
       "      <td>0</td>\n",
       "      <td>0</td>\n",
       "      <td>0</td>\n",
       "      <td>0</td>\n",
       "      <td>0</td>\n",
       "      <td>0</td>\n",
       "      <td>0</td>\n",
       "      <td>...</td>\n",
       "      <td>0</td>\n",
       "      <td>0</td>\n",
       "      <td>0</td>\n",
       "      <td>0</td>\n",
       "      <td>0</td>\n",
       "      <td>0</td>\n",
       "      <td>0</td>\n",
       "      <td>0</td>\n",
       "      <td>0</td>\n",
       "      <td>0</td>\n",
       "    </tr>\n",
       "    <tr>\n",
       "      <th>...</th>\n",
       "      <td>...</td>\n",
       "      <td>...</td>\n",
       "      <td>...</td>\n",
       "      <td>...</td>\n",
       "      <td>...</td>\n",
       "      <td>...</td>\n",
       "      <td>...</td>\n",
       "      <td>...</td>\n",
       "      <td>...</td>\n",
       "      <td>...</td>\n",
       "      <td>...</td>\n",
       "      <td>...</td>\n",
       "      <td>...</td>\n",
       "      <td>...</td>\n",
       "      <td>...</td>\n",
       "      <td>...</td>\n",
       "      <td>...</td>\n",
       "      <td>...</td>\n",
       "      <td>...</td>\n",
       "      <td>...</td>\n",
       "      <td>...</td>\n",
       "    </tr>\n",
       "    <tr>\n",
       "      <th>2851</th>\n",
       "      <td>0</td>\n",
       "      <td>0</td>\n",
       "      <td>0</td>\n",
       "      <td>0</td>\n",
       "      <td>0</td>\n",
       "      <td>0</td>\n",
       "      <td>0</td>\n",
       "      <td>0</td>\n",
       "      <td>0</td>\n",
       "      <td>0</td>\n",
       "      <td>...</td>\n",
       "      <td>0</td>\n",
       "      <td>0</td>\n",
       "      <td>0</td>\n",
       "      <td>0</td>\n",
       "      <td>0</td>\n",
       "      <td>0</td>\n",
       "      <td>0</td>\n",
       "      <td>0</td>\n",
       "      <td>0</td>\n",
       "      <td>0</td>\n",
       "    </tr>\n",
       "    <tr>\n",
       "      <th>2852</th>\n",
       "      <td>0</td>\n",
       "      <td>0</td>\n",
       "      <td>0</td>\n",
       "      <td>0</td>\n",
       "      <td>0</td>\n",
       "      <td>0</td>\n",
       "      <td>0</td>\n",
       "      <td>0</td>\n",
       "      <td>0</td>\n",
       "      <td>0</td>\n",
       "      <td>...</td>\n",
       "      <td>0</td>\n",
       "      <td>0</td>\n",
       "      <td>0</td>\n",
       "      <td>0</td>\n",
       "      <td>0</td>\n",
       "      <td>0</td>\n",
       "      <td>0</td>\n",
       "      <td>0</td>\n",
       "      <td>0</td>\n",
       "      <td>0</td>\n",
       "    </tr>\n",
       "    <tr>\n",
       "      <th>2853</th>\n",
       "      <td>0</td>\n",
       "      <td>0</td>\n",
       "      <td>0</td>\n",
       "      <td>0</td>\n",
       "      <td>0</td>\n",
       "      <td>0</td>\n",
       "      <td>0</td>\n",
       "      <td>0</td>\n",
       "      <td>0</td>\n",
       "      <td>0</td>\n",
       "      <td>...</td>\n",
       "      <td>0</td>\n",
       "      <td>0</td>\n",
       "      <td>0</td>\n",
       "      <td>0</td>\n",
       "      <td>0</td>\n",
       "      <td>0</td>\n",
       "      <td>0</td>\n",
       "      <td>0</td>\n",
       "      <td>0</td>\n",
       "      <td>0</td>\n",
       "    </tr>\n",
       "    <tr>\n",
       "      <th>2854</th>\n",
       "      <td>0</td>\n",
       "      <td>0</td>\n",
       "      <td>0</td>\n",
       "      <td>0</td>\n",
       "      <td>0</td>\n",
       "      <td>0</td>\n",
       "      <td>0</td>\n",
       "      <td>0</td>\n",
       "      <td>0</td>\n",
       "      <td>0</td>\n",
       "      <td>...</td>\n",
       "      <td>0</td>\n",
       "      <td>0</td>\n",
       "      <td>0</td>\n",
       "      <td>0</td>\n",
       "      <td>0</td>\n",
       "      <td>0</td>\n",
       "      <td>0</td>\n",
       "      <td>0</td>\n",
       "      <td>0</td>\n",
       "      <td>0</td>\n",
       "    </tr>\n",
       "    <tr>\n",
       "      <th>2855</th>\n",
       "      <td>0</td>\n",
       "      <td>0</td>\n",
       "      <td>0</td>\n",
       "      <td>0</td>\n",
       "      <td>0</td>\n",
       "      <td>0</td>\n",
       "      <td>0</td>\n",
       "      <td>0</td>\n",
       "      <td>0</td>\n",
       "      <td>0</td>\n",
       "      <td>...</td>\n",
       "      <td>0</td>\n",
       "      <td>0</td>\n",
       "      <td>0</td>\n",
       "      <td>0</td>\n",
       "      <td>0</td>\n",
       "      <td>0</td>\n",
       "      <td>0</td>\n",
       "      <td>0</td>\n",
       "      <td>0</td>\n",
       "      <td>0</td>\n",
       "    </tr>\n",
       "  </tbody>\n",
       "</table>\n",
       "<p>2856 rows × 10138 columns</p>\n",
       "</div>"
      ],
      "text/plain": [
       "      00  000  001  008  0311  058  06  07h  0ff  10  ...  être  êtres  \\\n",
       "0      0    0    0    0     0    0   0    0    0   0  ...     0      0   \n",
       "1      0    0    0    0     0    0   0    0    0   0  ...     0      0   \n",
       "2      0    0    0    0     0    0   0    0    0   0  ...     0      0   \n",
       "3      0    0    0    0     0    0   0    0    0   0  ...     0      0   \n",
       "4      0    0    0    0     0    0   0    0    0   0  ...     0      0   \n",
       "...   ..  ...  ...  ...   ...  ...  ..  ...  ...  ..  ...   ...    ...   \n",
       "2851   0    0    0    0     0    0   0    0    0   0  ...     0      0   \n",
       "2852   0    0    0    0     0    0   0    0    0   0  ...     0      0   \n",
       "2853   0    0    0    0     0    0   0    0    0   0  ...     0      0   \n",
       "2854   0    0    0    0     0    0   0    0    0   0  ...     0      0   \n",
       "2855   0    0    0    0     0    0   0    0    0   0  ...     0      0   \n",
       "\n",
       "      êxtreme  île  ïse  œil  œillères  œuf  œuvre  œuvres  \n",
       "0           0    0    0    0         0    0      0       0  \n",
       "1           0    0    0    0         0    0      0       0  \n",
       "2           0    0    0    0         0    0      0       0  \n",
       "3           0    0    0    0         0    0      0       0  \n",
       "4           0    0    0    0         0    0      0       0  \n",
       "...       ...  ...  ...  ...       ...  ...    ...     ...  \n",
       "2851        0    0    0    0         0    0      0       0  \n",
       "2852        0    0    0    0         0    0      0       0  \n",
       "2853        0    0    0    0         0    0      0       0  \n",
       "2854        0    0    0    0         0    0      0       0  \n",
       "2855        0    0    0    0         0    0      0       0  \n",
       "\n",
       "[2856 rows x 10138 columns]"
      ]
     },
     "execution_count": 16,
     "metadata": {},
     "output_type": "execute_result"
    }
   ],
   "source": [
    "X = pd.DataFrame(final_X, columns=list_of_words)\n",
    "X"
   ]
  },
  {
   "cell_type": "code",
   "execution_count": 17,
   "id": "e6df11e7",
   "metadata": {},
   "outputs": [],
   "source": [
    "y = final_df[\"Classement\"]"
   ]
  },
  {
   "cell_type": "code",
   "execution_count": 18,
   "id": "3efa62fa",
   "metadata": {},
   "outputs": [],
   "source": [
    "# Split Data to train and test parts\n",
    "X_train, X_test, y_train, y_test = train_test_split(X, y, test_size=0.2, random_state=42)"
   ]
  },
  {
   "cell_type": "markdown",
   "id": "17b80f56",
   "metadata": {},
   "source": [
    "## **Random Forest**"
   ]
  },
  {
   "cell_type": "markdown",
   "id": "d9b66820",
   "metadata": {},
   "source": [
    "### *Model*"
   ]
  },
  {
   "cell_type": "code",
   "execution_count": 17,
   "id": "1485db1f",
   "metadata": {},
   "outputs": [
    {
     "data": {
      "text/plain": [
       "RandomForestClassifier()"
      ]
     },
     "execution_count": 17,
     "metadata": {},
     "output_type": "execute_result"
    }
   ],
   "source": [
    "random_forest_model = RandomForestClassifier()\n",
    "random_forest_model.fit(X_train, y_train)"
   ]
  },
  {
   "cell_type": "markdown",
   "id": "6544c0bd",
   "metadata": {},
   "source": [
    "### *Prediction*"
   ]
  },
  {
   "cell_type": "code",
   "execution_count": 18,
   "id": "b69fd98c",
   "metadata": {},
   "outputs": [],
   "source": [
    "y_pred = random_forest_model.predict(X_test)"
   ]
  },
  {
   "cell_type": "markdown",
   "id": "96e07d2b",
   "metadata": {},
   "source": [
    "### *Some metrics*"
   ]
  },
  {
   "cell_type": "code",
   "execution_count": 19,
   "id": "a5ea6db9",
   "metadata": {},
   "outputs": [
    {
     "name": "stdout",
     "output_type": "stream",
     "text": [
      "Accuracy: 0.7762237762237763\n"
     ]
    }
   ],
   "source": [
    "print(\"Accuracy:\", accuracy_score(y_test,y_pred))"
   ]
  },
  {
   "cell_type": "code",
   "execution_count": 20,
   "id": "fd4f2ba6",
   "metadata": {},
   "outputs": [
    {
     "name": "stdout",
     "output_type": "stream",
     "text": [
      "              precision    recall  f1-score   support\n",
      "\n",
      "           0       0.82      0.85      0.83       375\n",
      "           1       0.69      0.63      0.66       197\n",
      "\n",
      "    accuracy                           0.78       572\n",
      "   macro avg       0.75      0.74      0.75       572\n",
      "weighted avg       0.77      0.78      0.77       572\n",
      "\n"
     ]
    }
   ],
   "source": [
    "print(classification_report(y_test, y_pred))"
   ]
  },
  {
   "cell_type": "markdown",
   "id": "70eac385",
   "metadata": {},
   "source": [
    "### *Confusion Matrix*"
   ]
  },
  {
   "cell_type": "code",
   "execution_count": 21,
   "id": "c4e73560",
   "metadata": {},
   "outputs": [
    {
     "name": "stdout",
     "output_type": "stream",
     "text": [
      "Confusion Matrix:\n",
      "[319  56  72 125]\n"
     ]
    }
   ],
   "source": [
    "print(\"Confusion Matrix:\")\n",
    "print(confusion_matrix(y_test, y_pred).ravel())\n",
    "# TN FP FN TP"
   ]
  },
  {
   "cell_type": "code",
   "execution_count": 22,
   "id": "047b208d",
   "metadata": {},
   "outputs": [
    {
     "data": {
      "text/plain": [
       "<sklearn.metrics._plot.confusion_matrix.ConfusionMatrixDisplay at 0x15b47caf0>"
      ]
     },
     "execution_count": 22,
     "metadata": {},
     "output_type": "execute_result"
    },
    {
     "data": {
      "image/png": "[encoded data removed]",
      "text/plain": [
       "<Figure size 432x288 with 2 Axes>"
      ]
     },
     "metadata": {
      "needs_background": "light"
     },
     "output_type": "display_data"
    }
   ],
   "source": [
    "import matplotlib.pyplot as plt\n",
    "from sklearn.metrics import plot_confusion_matrix\n",
    "plot_confusion_matrix(random_forest_model, X_test, y_test)"
   ]
  },
  {
   "cell_type": "markdown",
   "id": "c54909e5",
   "metadata": {},
   "source": [
    "## **Logistic Regression**"
   ]
  },
  {
   "cell_type": "code",
   "execution_count": 19,
   "id": "7a51aeba",
   "metadata": {},
   "outputs": [],
   "source": [
    "logistic_regression_model = LogisticRegression().fit(X_train, y_train)"
   ]
  },
  {
   "cell_type": "code",
   "execution_count": 20,
   "id": "c51f40b5",
   "metadata": {},
   "outputs": [
    {
     "data": {
      "text/plain": [
       "0.7937062937062938"
      ]
     },
     "execution_count": 20,
     "metadata": {},
     "output_type": "execute_result"
    }
   ],
   "source": [
    "logistic_regression_model.score(X_test, y_test)"
   ]
  },
  {
   "cell_type": "code",
   "execution_count": 21,
   "id": "f7bda7c4",
   "metadata": {},
   "outputs": [],
   "source": [
    "y_pred_LR = logistic_regression_model.predict(X_test)"
   ]
  },
  {
   "cell_type": "code",
   "execution_count": 22,
   "id": "0cb86ee9",
   "metadata": {},
   "outputs": [
    {
     "name": "stdout",
     "output_type": "stream",
     "text": [
      "              precision    recall  f1-score   support\n",
      "\n",
      "           0       0.83      0.87      0.85       375\n",
      "           1       0.72      0.65      0.68       197\n",
      "\n",
      "    accuracy                           0.79       572\n",
      "   macro avg       0.77      0.76      0.77       572\n",
      "weighted avg       0.79      0.79      0.79       572\n",
      "\n"
     ]
    }
   ],
   "source": [
    "print(classification_report(y_test, y_pred_LR))"
   ]
  },
  {
   "cell_type": "code",
   "execution_count": 23,
   "id": "2b0edd97",
   "metadata": {},
   "outputs": [
    {
     "name": "stdout",
     "output_type": "stream",
     "text": [
      "Confusion Matrix:\n",
      "[326  49  69 128]\n"
     ]
    }
   ],
   "source": [
    "print(\"Confusion Matrix:\")\n",
    "print(confusion_matrix(y_test, y_pred_LR).ravel())\n",
    "# TN FP FN TP"
   ]
  },
  {
   "cell_type": "code",
   "execution_count": 24,
   "id": "7009f629",
   "metadata": {},
   "outputs": [
    {
     "data": {
      "text/plain": [
       "<sklearn.metrics._plot.confusion_matrix.ConfusionMatrixDisplay at 0x105cbe460>"
      ]
     },
     "execution_count": 24,
     "metadata": {},
     "output_type": "execute_result"
    },
    {
     "data": {
      "image/png": "[encoded data removed]",
      "text/plain": [
       "<Figure size 432x288 with 2 Axes>"
      ]
     },
     "metadata": {
      "needs_background": "light"
     },
     "output_type": "display_data"
    }
   ],
   "source": [
    "plot_confusion_matrix(logistic_regression_model, X_test, y_test)"
   ]
  },
  {
   "cell_type": "markdown",
   "id": "67e0a1c1",
   "metadata": {},
   "source": [
    "## Some explanations about Best model"
   ]
  },
  {
   "cell_type": "code",
   "execution_count": 25,
   "id": "145e9f9c",
   "metadata": {},
   "outputs": [
    {
     "data": {
      "text/html": [
       "<div>\n",
       "<style scoped>\n",
       "    .dataframe tbody tr th:only-of-type {\n",
       "        vertical-align: middle;\n",
       "    }\n",
       "\n",
       "    .dataframe tbody tr th {\n",
       "        vertical-align: top;\n",
       "    }\n",
       "\n",
       "    .dataframe thead th {\n",
       "        text-align: right;\n",
       "    }\n",
       "</style>\n",
       "<table border=\"1\" class=\"dataframe\">\n",
       "  <thead>\n",
       "    <tr style=\"text-align: right;\">\n",
       "      <th></th>\n",
       "      <th>Cleaned Tweets</th>\n",
       "      <th>Classement</th>\n",
       "      <th>Predicition_LR</th>\n",
       "    </tr>\n",
       "  </thead>\n",
       "  <tbody>\n",
       "    <tr>\n",
       "      <th>2284</th>\n",
       "      <td>je suis crevé</td>\n",
       "      <td>0</td>\n",
       "      <td>0</td>\n",
       "    </tr>\n",
       "    <tr>\n",
       "      <th>2285</th>\n",
       "      <td>c est une criminelle à la hauteur d adolf hitl...</td>\n",
       "      <td>1</td>\n",
       "      <td>0</td>\n",
       "    </tr>\n",
       "    <tr>\n",
       "      <th>2286</th>\n",
       "      <td>au nazi surtout      un délice</td>\n",
       "      <td>0</td>\n",
       "      <td>0</td>\n",
       "    </tr>\n",
       "    <tr>\n",
       "      <th>2287</th>\n",
       "      <td>il a tout à fait raison    ils viennent  be tr...</td>\n",
       "      <td>0</td>\n",
       "      <td>1</td>\n",
       "    </tr>\n",
       "    <tr>\n",
       "      <th>2288</th>\n",
       "      <td>premier anime   dragon ball dernier anime   vi...</td>\n",
       "      <td>0</td>\n",
       "      <td>0</td>\n",
       "    </tr>\n",
       "    <tr>\n",
       "      <th>...</th>\n",
       "      <td>...</td>\n",
       "      <td>...</td>\n",
       "      <td>...</td>\n",
       "    </tr>\n",
       "    <tr>\n",
       "      <th>2851</th>\n",
       "      <td>kevin c est un sal noir</td>\n",
       "      <td>1</td>\n",
       "      <td>1</td>\n",
       "    </tr>\n",
       "    <tr>\n",
       "      <th>2852</th>\n",
       "      <td>bougnoule bamboula sale arabe   elle est belle...</td>\n",
       "      <td>1</td>\n",
       "      <td>1</td>\n",
       "    </tr>\n",
       "    <tr>\n",
       "      <th>2853</th>\n",
       "      <td>mahrezz tu viens de le traiter de sal noir</td>\n",
       "      <td>1</td>\n",
       "      <td>0</td>\n",
       "    </tr>\n",
       "    <tr>\n",
       "      <th>2854</th>\n",
       "      <td>sal noir</td>\n",
       "      <td>1</td>\n",
       "      <td>0</td>\n",
       "    </tr>\n",
       "    <tr>\n",
       "      <th>2855</th>\n",
       "      <td>sal noir</td>\n",
       "      <td>1</td>\n",
       "      <td>0</td>\n",
       "    </tr>\n",
       "  </tbody>\n",
       "</table>\n",
       "<p>572 rows × 3 columns</p>\n",
       "</div>"
      ],
      "text/plain": [
       "                                         Cleaned Tweets  Classement  \\\n",
       "2284                                      je suis crevé           0   \n",
       "2285  c est une criminelle à la hauteur d adolf hitl...           1   \n",
       "2286                     au nazi surtout      un délice           0   \n",
       "2287  il a tout à fait raison    ils viennent  be tr...           0   \n",
       "2288  premier anime   dragon ball dernier anime   vi...           0   \n",
       "...                                                 ...         ...   \n",
       "2851                           kevin c est un sal noir            1   \n",
       "2852  bougnoule bamboula sale arabe   elle est belle...           1   \n",
       "2853       mahrezz tu viens de le traiter de sal noir             1   \n",
       "2854                                           sal noir           1   \n",
       "2855                                           sal noir           1   \n",
       "\n",
       "      Predicition_LR  \n",
       "2284               0  \n",
       "2285               0  \n",
       "2286               0  \n",
       "2287               1  \n",
       "2288               0  \n",
       "...              ...  \n",
       "2851               1  \n",
       "2852               1  \n",
       "2853               0  \n",
       "2854               0  \n",
       "2855               0  \n",
       "\n",
       "[572 rows x 3 columns]"
      ]
     },
     "execution_count": 25,
     "metadata": {},
     "output_type": "execute_result"
    }
   ],
   "source": [
    "test_df = final_df.tail(572)\n",
    "test_df[\"Predicition_LR\"] = y_pred_LR\n",
    "test_df"
   ]
  },
  {
   "cell_type": "code",
   "execution_count": 26,
   "id": "8f1f96cc",
   "metadata": {},
   "outputs": [
    {
     "data": {
      "text/html": [
       "<div>\n",
       "<style scoped>\n",
       "    .dataframe tbody tr th:only-of-type {\n",
       "        vertical-align: middle;\n",
       "    }\n",
       "\n",
       "    .dataframe tbody tr th {\n",
       "        vertical-align: top;\n",
       "    }\n",
       "\n",
       "    .dataframe thead th {\n",
       "        text-align: right;\n",
       "    }\n",
       "</style>\n",
       "<table border=\"1\" class=\"dataframe\">\n",
       "  <thead>\n",
       "    <tr style=\"text-align: right;\">\n",
       "      <th></th>\n",
       "      <th>Cleaned Tweets</th>\n",
       "      <th>Classement</th>\n",
       "      <th>Predicition_LR</th>\n",
       "    </tr>\n",
       "  </thead>\n",
       "  <tbody>\n",
       "    <tr>\n",
       "      <th>2285</th>\n",
       "      <td>c est une criminelle à la hauteur d adolf hitl...</td>\n",
       "      <td>1</td>\n",
       "      <td>0</td>\n",
       "    </tr>\n",
       "    <tr>\n",
       "      <th>2290</th>\n",
       "      <td>purée mais les gens   reveillez vous  ces phra...</td>\n",
       "      <td>1</td>\n",
       "      <td>0</td>\n",
       "    </tr>\n",
       "    <tr>\n",
       "      <th>2292</th>\n",
       "      <td>hamdullilah non merci  le negro est riche comm...</td>\n",
       "      <td>1</td>\n",
       "      <td>0</td>\n",
       "    </tr>\n",
       "    <tr>\n",
       "      <th>2300</th>\n",
       "      <td>je rassure je ne suis ni de droite ni de gauch...</td>\n",
       "      <td>1</td>\n",
       "      <td>0</td>\n",
       "    </tr>\n",
       "    <tr>\n",
       "      <th>2301</th>\n",
       "      <td>je suis allé voir son profil  il manque que la...</td>\n",
       "      <td>1</td>\n",
       "      <td>0</td>\n",
       "    </tr>\n",
       "    <tr>\n",
       "      <th>...</th>\n",
       "      <td>...</td>\n",
       "      <td>...</td>\n",
       "      <td>...</td>\n",
       "    </tr>\n",
       "    <tr>\n",
       "      <th>2848</th>\n",
       "      <td>chacun son tour  vous vous faites aider par le...</td>\n",
       "      <td>1</td>\n",
       "      <td>0</td>\n",
       "    </tr>\n",
       "    <tr>\n",
       "      <th>2849</th>\n",
       "      <td>il va parler de manchester ce sal noir je suis...</td>\n",
       "      <td>1</td>\n",
       "      <td>0</td>\n",
       "    </tr>\n",
       "    <tr>\n",
       "      <th>2853</th>\n",
       "      <td>mahrezz tu viens de le traiter de sal noir</td>\n",
       "      <td>1</td>\n",
       "      <td>0</td>\n",
       "    </tr>\n",
       "    <tr>\n",
       "      <th>2854</th>\n",
       "      <td>sal noir</td>\n",
       "      <td>1</td>\n",
       "      <td>0</td>\n",
       "    </tr>\n",
       "    <tr>\n",
       "      <th>2855</th>\n",
       "      <td>sal noir</td>\n",
       "      <td>1</td>\n",
       "      <td>0</td>\n",
       "    </tr>\n",
       "  </tbody>\n",
       "</table>\n",
       "<p>152 rows × 3 columns</p>\n",
       "</div>"
      ],
      "text/plain": [
       "                                         Cleaned Tweets  Classement  \\\n",
       "2285  c est une criminelle à la hauteur d adolf hitl...           1   \n",
       "2290  purée mais les gens   reveillez vous  ces phra...           1   \n",
       "2292  hamdullilah non merci  le negro est riche comm...           1   \n",
       "2300  je rassure je ne suis ni de droite ni de gauch...           1   \n",
       "2301  je suis allé voir son profil  il manque que la...           1   \n",
       "...                                                 ...         ...   \n",
       "2848  chacun son tour  vous vous faites aider par le...           1   \n",
       "2849  il va parler de manchester ce sal noir je suis...           1   \n",
       "2853       mahrezz tu viens de le traiter de sal noir             1   \n",
       "2854                                           sal noir           1   \n",
       "2855                                           sal noir           1   \n",
       "\n",
       "      Predicition_LR  \n",
       "2285               0  \n",
       "2290               0  \n",
       "2292               0  \n",
       "2300               0  \n",
       "2301               0  \n",
       "...              ...  \n",
       "2848               0  \n",
       "2849               0  \n",
       "2853               0  \n",
       "2854               0  \n",
       "2855               0  \n",
       "\n",
       "[152 rows x 3 columns]"
      ]
     },
     "execution_count": 26,
     "metadata": {},
     "output_type": "execute_result"
    }
   ],
   "source": [
    "TN_df = test_df.loc[test_df[\"Classement\"]==1]\n",
    "TN_df = TN_df.loc[TN_df[\"Predicition_LR\"]==0]\n",
    "TN_df"
   ]
  },
  {
   "cell_type": "code",
   "execution_count": 31,
   "id": "732e810f",
   "metadata": {},
   "outputs": [],
   "source": [
    "TN_df.to_csv('true_negative_df.csv')"
   ]
  },
  {
   "cell_type": "code",
   "execution_count": 27,
   "id": "f4d5617c",
   "metadata": {},
   "outputs": [
    {
     "data": {
      "text/html": [
       "<div>\n",
       "<style scoped>\n",
       "    .dataframe tbody tr th:only-of-type {\n",
       "        vertical-align: middle;\n",
       "    }\n",
       "\n",
       "    .dataframe tbody tr th {\n",
       "        vertical-align: top;\n",
       "    }\n",
       "\n",
       "    .dataframe thead th {\n",
       "        text-align: right;\n",
       "    }\n",
       "</style>\n",
       "<table border=\"1\" class=\"dataframe\">\n",
       "  <thead>\n",
       "    <tr style=\"text-align: right;\">\n",
       "      <th></th>\n",
       "      <th>Cleaned Tweets</th>\n",
       "      <th>Classement</th>\n",
       "      <th>Predicition_LR</th>\n",
       "    </tr>\n",
       "  </thead>\n",
       "  <tbody>\n",
       "    <tr>\n",
       "      <th>2287</th>\n",
       "      <td>il a tout à fait raison    ils viennent  be tr...</td>\n",
       "      <td>0</td>\n",
       "      <td>1</td>\n",
       "    </tr>\n",
       "    <tr>\n",
       "      <th>2289</th>\n",
       "      <td>genre la secu   ou la sncf  les congés payées ...</td>\n",
       "      <td>0</td>\n",
       "      <td>1</td>\n",
       "    </tr>\n",
       "    <tr>\n",
       "      <th>2299</th>\n",
       "      <td>tu évites d invoquer hitler ou un autre cinglé...</td>\n",
       "      <td>0</td>\n",
       "      <td>1</td>\n",
       "    </tr>\n",
       "    <tr>\n",
       "      <th>2305</th>\n",
       "      <td>j aime trop le military lolita mais j ai peur ...</td>\n",
       "      <td>0</td>\n",
       "      <td>1</td>\n",
       "    </tr>\n",
       "    <tr>\n",
       "      <th>2307</th>\n",
       "      <td>fidele elle a dit  c est qui ce negro</td>\n",
       "      <td>0</td>\n",
       "      <td>1</td>\n",
       "    </tr>\n",
       "    <tr>\n",
       "      <th>...</th>\n",
       "      <td>...</td>\n",
       "      <td>...</td>\n",
       "      <td>...</td>\n",
       "    </tr>\n",
       "    <tr>\n",
       "      <th>2791</th>\n",
       "      <td>après c est normal qu on vous bride un peu vou...</td>\n",
       "      <td>0</td>\n",
       "      <td>1</td>\n",
       "    </tr>\n",
       "    <tr>\n",
       "      <th>2801</th>\n",
       "      <td>ok j ai défendu manel maintenant je dois faire...</td>\n",
       "      <td>0</td>\n",
       "      <td>1</td>\n",
       "    </tr>\n",
       "    <tr>\n",
       "      <th>2803</th>\n",
       "      <td>j frai jamais de trêve et tant pis si j en crève</td>\n",
       "      <td>0</td>\n",
       "      <td>1</td>\n",
       "    </tr>\n",
       "    <tr>\n",
       "      <th>2806</th>\n",
       "      <td>18h17 c est le moment parfait pour que les cli...</td>\n",
       "      <td>0</td>\n",
       "      <td>1</td>\n",
       "    </tr>\n",
       "    <tr>\n",
       "      <th>2810</th>\n",
       "      <td>ptn ya des gens ils sont tellement con le seul...</td>\n",
       "      <td>0</td>\n",
       "      <td>1</td>\n",
       "    </tr>\n",
       "  </tbody>\n",
       "</table>\n",
       "<p>114 rows × 3 columns</p>\n",
       "</div>"
      ],
      "text/plain": [
       "                                         Cleaned Tweets  Classement  \\\n",
       "2287  il a tout à fait raison    ils viennent  be tr...           0   \n",
       "2289  genre la secu   ou la sncf  les congés payées ...           0   \n",
       "2299  tu évites d invoquer hitler ou un autre cinglé...           0   \n",
       "2305  j aime trop le military lolita mais j ai peur ...           0   \n",
       "2307         fidele elle a dit  c est qui ce negro                0   \n",
       "...                                                 ...         ...   \n",
       "2791  après c est normal qu on vous bride un peu vou...           0   \n",
       "2801  ok j ai défendu manel maintenant je dois faire...           0   \n",
       "2803   j frai jamais de trêve et tant pis si j en crève           0   \n",
       "2806  18h17 c est le moment parfait pour que les cli...           0   \n",
       "2810  ptn ya des gens ils sont tellement con le seul...           0   \n",
       "\n",
       "      Predicition_LR  \n",
       "2287               1  \n",
       "2289               1  \n",
       "2299               1  \n",
       "2305               1  \n",
       "2307               1  \n",
       "...              ...  \n",
       "2791               1  \n",
       "2801               1  \n",
       "2803               1  \n",
       "2806               1  \n",
       "2810               1  \n",
       "\n",
       "[114 rows x 3 columns]"
      ]
     },
     "execution_count": 27,
     "metadata": {},
     "output_type": "execute_result"
    }
   ],
   "source": [
    "FN_df = test_df.loc[test_df[\"Classement\"]==0]\n",
    "FN_df = FN_df.loc[FN_df[\"Predicition_LR\"]==1]\n",
    "FN_df"
   ]
  },
  {
   "cell_type": "code",
   "execution_count": 28,
   "id": "0023937d",
   "metadata": {},
   "outputs": [],
   "source": [
    "FN_df.to_csv('false_negative_df.csv')"
   ]
  },
  {
   "cell_type": "markdown",
   "id": "87301000",
   "metadata": {},
   "source": [
    "## **XGBOOST**"
   ]
  },
  {
   "cell_type": "code",
   "execution_count": 32,
   "id": "dd36431e",
   "metadata": {},
   "outputs": [],
   "source": [
    "xgboost_model = GradientBoostingClassifier().fit(X_train, y_train)"
   ]
  },
  {
   "cell_type": "code",
   "execution_count": 33,
   "id": "59b60755",
   "metadata": {},
   "outputs": [
    {
     "name": "stdout",
     "output_type": "stream",
     "text": [
      "Accuracy: 0.7867132867132867\n"
     ]
    }
   ],
   "source": [
    "y_pred_XB = xgboost_model.predict(X_test)\n",
    "print(\"Accuracy:\", accuracy_score(y_test,y_pred_XB))"
   ]
  },
  {
   "cell_type": "code",
   "execution_count": 34,
   "id": "d8342740",
   "metadata": {},
   "outputs": [
    {
     "name": "stdout",
     "output_type": "stream",
     "text": [
      "              precision    recall  f1-score   support\n",
      "\n",
      "           0       0.82      0.86      0.84       375\n",
      "           1       0.71      0.64      0.67       197\n",
      "\n",
      "    accuracy                           0.79       572\n",
      "   macro avg       0.77      0.75      0.76       572\n",
      "weighted avg       0.78      0.79      0.78       572\n",
      "\n"
     ]
    }
   ],
   "source": [
    "print(classification_report(y_test, y_pred_XB))"
   ]
  },
  {
   "cell_type": "code",
   "execution_count": 35,
   "id": "efe9527e",
   "metadata": {},
   "outputs": [
    {
     "name": "stdout",
     "output_type": "stream",
     "text": [
      "Confusion Matrix:\n",
      "[324  51  71 126]\n"
     ]
    }
   ],
   "source": [
    "print(\"Confusion Matrix:\")\n",
    "print(confusion_matrix(y_test, y_pred_XB).ravel())\n",
    "# TN FP FN TP"
   ]
  },
  {
   "cell_type": "code",
   "execution_count": 36,
   "id": "817c5076",
   "metadata": {},
   "outputs": [
    {
     "data": {
      "text/plain": [
       "<sklearn.metrics._plot.confusion_matrix.ConfusionMatrixDisplay at 0x16d8d2c70>"
      ]
     },
     "execution_count": 36,
     "metadata": {},
     "output_type": "execute_result"
    },
    {
     "data": {
      "image/png": "[encoded data removed]",
      "text/plain": [
       "<Figure size 432x288 with 2 Axes>"
      ]
     },
     "metadata": {
      "needs_background": "light"
     },
     "output_type": "display_data"
    }
   ],
   "source": [
    "plot_confusion_matrix(xgboost_model, X_test, y_test)"
   ]
  },
  {
   "cell_type": "code",
   "execution_count": null,
   "id": "a1c9bca3",
   "metadata": {},
   "outputs": [],
   "source": []
  }
 ],
 "metadata": {
  "kernelspec": {
   "display_name": "Python 3 (ipykernel)",
   "language": "python",
   "name": "python3"
  },
  "language_info": {
   "codemirror_mode": {
    "name": "ipython",
    "version": 3
   },
   "file_extension": ".py",
   "mimetype": "text/x-python",
   "name": "python",
   "nbconvert_exporter": "python",
   "pygments_lexer": "ipython3",
   "version": "3.9.9"
  }
 },
 "nbformat": 4,
 "nbformat_minor": 5
}
